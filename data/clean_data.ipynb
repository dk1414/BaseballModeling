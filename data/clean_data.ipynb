{
 "cells": [
  {
   "cell_type": "code",
   "execution_count": 1,
   "metadata": {},
   "outputs": [],
   "source": [
    "import pybaseball\n",
    "import pandas as pd\n"
   ]
  },
  {
   "cell_type": "code",
   "execution_count": 2,
   "metadata": {},
   "outputs": [
    {
     "name": "stderr",
     "output_type": "stream",
     "text": [
      "C:\\Users\\declan\\AppData\\Local\\Temp\\ipykernel_27992\\4270108768.py:1: DtypeWarning: Columns (34) have mixed types. Specify dtype option on import or set low_memory=False.\n",
      "  full_data = pd.read_csv('statcast_2015-2024.csv')\n"
     ]
    }
   ],
   "source": [
    "full_data = pd.read_csv('statcast_2015-2024.csv')"
   ]
  },
  {
   "cell_type": "code",
   "execution_count": 3,
   "metadata": {},
   "outputs": [
    {
     "data": {
      "text/plain": [
       "hit_location\n",
       "2.0    399904\n",
       "8.0    202907\n",
       "9.0    182175\n",
       "7.0    179627\n",
       "6.0    151593\n",
       "4.0    136818\n",
       "5.0    125016\n",
       "3.0     84207\n",
       "1.0     48360\n",
       "Name: count, dtype: int64"
      ]
     },
     "execution_count": 3,
     "metadata": {},
     "output_type": "execute_result"
    }
   ],
   "source": [
    "full_data['hit_location'].value_counts()"
   ]
  },
  {
   "cell_type": "code",
   "execution_count": 3,
   "metadata": {},
   "outputs": [],
   "source": [
    "#batter and pitcher columns are id's, lets add 2 columns to include their names\n",
    "#the player_name column already includes pitcher name, so we can just remove that one\n",
    "\n",
    "batter_names_df = pybaseball.playerid_reverse_lookup(full_data['batter'].to_list(), key_type='mlbam')\n",
    "pitcher_names_df = pybaseball.playerid_reverse_lookup(full_data['pitcher'].to_list(), key_type='mlbam')\n",
    "\n",
    "# Combine first and last names\n",
    "batter_names_df['full_name'] = batter_names_df['name_first'] + ' ' + batter_names_df['name_last']\n",
    "pitcher_names_df['full_name'] = pitcher_names_df['name_first'] + ' ' + pitcher_names_df['name_last']\n",
    "\n",
    "# Create dictionaries to map player IDs to full names\n",
    "batter_names_dict = batter_names_df.set_index('key_mlbam')['full_name'].to_dict()\n",
    "pitcher_names_dict = pitcher_names_df.set_index('key_mlbam')['full_name'].to_dict()\n",
    "\n",
    "# Map the full names to the full_data DataFrame\n",
    "full_data['batter_name'] = full_data['batter'].map(batter_names_dict)\n",
    "full_data['pitcher_name'] = full_data['pitcher'].map(pitcher_names_dict)\n",
    "\n",
    "\n",
    "if 'player_name' in full_data.columns:\n",
    "    full_data.drop(columns=['player_name'], inplace=True)"
   ]
  },
  {
   "cell_type": "code",
   "execution_count": 4,
   "metadata": {},
   "outputs": [],
   "source": [
    "#drop depricated cols\n",
    "\n",
    "deprecated_columns = ['spin_rate_deprecated', 'break_angle_deprecated', 'break_length_deprecated', 'tfs_deprecated', 'tfs_zulu_deprecated', 'spin_dir', 'umpire']\n",
    "full_data.drop(columns=deprecated_columns, inplace=True)"
   ]
  },
  {
   "cell_type": "code",
   "execution_count": 5,
   "metadata": {},
   "outputs": [],
   "source": [
    "#drop dups\n",
    "full_data.drop_duplicates(inplace=True)"
   ]
  },
  {
   "cell_type": "code",
   "execution_count": 13,
   "metadata": {},
   "outputs": [],
   "source": [
    "#I'll handle missing values in the data processor since the way this works is subject to change\n",
    "\n",
    "full_data.to_csv('statcast_2015-2024.csv', index=False)"
   ]
  },
  {
   "cell_type": "code",
   "execution_count": 14,
   "metadata": {},
   "outputs": [
    {
     "data": {
      "text/plain": [
       "events\n",
       "field_out                       686680\n",
       "strikeout                       384265\n",
       "single                          247525\n",
       "walk                            138476\n",
       "double                           76992\n",
       "home_run                         54126\n",
       "force_out                        34671\n",
       "grounded_into_double_play        32995\n",
       "hit_by_pitch                     18287\n",
       "field_error                      12154\n",
       "sac_fly                          11124\n",
       "triple                            7295\n",
       "sac_bunt                          6875\n",
       "double_play                       3907\n",
       "fielders_choice                   3514\n",
       "fielders_choice_out               2832\n",
       "caught_stealing_2b                1928\n",
       "intent_walk                       1923\n",
       "strikeout_double_play             1254\n",
       "catcher_interf                     447\n",
       "other_out                          319\n",
       "sac_fly_double_play                165\n",
       "caught_stealing_3b                 117\n",
       "pickoff_1b                         105\n",
       "caught_stealing_home                84\n",
       "wild_pitch                          50\n",
       "pickoff_2b                          50\n",
       "triple_play                         39\n",
       "pickoff_caught_stealing_2b          25\n",
       "pickoff_3b                          21\n",
       "pickoff_caught_stealing_3b          12\n",
       "pickoff_caught_stealing_home        11\n",
       "stolen_base_2b                      11\n",
       "game_advisory                       11\n",
       "sac_bunt_double_play                10\n",
       "passed_ball                          7\n",
       "stolen_base_3b                       3\n",
       "ejection                             3\n",
       "runner_double_play                   2\n",
       "pickoff_error_3b                     1\n",
       "stolen_base_home                     1\n",
       "pickoff_error_2b                     1\n",
       "Name: count, dtype: int64"
      ]
     },
     "execution_count": 14,
     "metadata": {},
     "output_type": "execute_result"
    }
   ],
   "source": [
    "full_data['events'].value_counts()"
   ]
  }
 ],
 "metadata": {
  "kernelspec": {
   "display_name": "Python 3",
   "language": "python",
   "name": "python3"
  },
  "language_info": {
   "codemirror_mode": {
    "name": "ipython",
    "version": 3
   },
   "file_extension": ".py",
   "mimetype": "text/x-python",
   "name": "python",
   "nbconvert_exporter": "python",
   "pygments_lexer": "ipython3",
   "version": "3.12.2"
  }
 },
 "nbformat": 4,
 "nbformat_minor": 2
}
