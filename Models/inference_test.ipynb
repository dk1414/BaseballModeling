{
 "cells": [
  {
   "cell_type": "code",
   "execution_count": 1,
   "metadata": {},
   "outputs": [],
   "source": [
    "import sys\n",
    "sys.path.append('../')\n",
    "\n",
    "from Datasets.BaseballDataset import BaseballDataset\n",
    "\n",
    "import torch\n",
    "import torch.nn as nn\n",
    "import torch.optim as optim\n",
    "import math\n",
    "import torch.nn.functional as F\n",
    "from torch.utils.data import DataLoader\n",
    "import json\n",
    "import pandas as pd\n",
    "import os\n",
    "import matplotlib.pyplot as plt"
   ]
  },
  {
   "cell_type": "code",
   "execution_count": 2,
   "metadata": {},
   "outputs": [],
   "source": [
    "data_config_path = \"../data/config.json\"\n",
    "valid_path = \"../data/statcast_2023-2024_cleaned.csv\"\n",
    "sequence_length = 200\n",
    "valid_data = pd.read_csv(valid_path)"
   ]
  },
  {
   "cell_type": "code",
   "execution_count": 3,
   "metadata": {},
   "outputs": [
    {
     "data": {
      "text/plain": [
       "Index(['launch_speed', 'game_date', 'release_speed', 'release_pos_x',\n",
       "       'release_pos_z', 'batter', 'pitcher', 'pfx_x', 'pfx_z', 'plate_x',\n",
       "       'plate_z', 'hc_x', 'hc_y', 'vy0', 'vz0', 'ax', 'ay', 'az', 'sz_top',\n",
       "       'sz_bot', 'launch_angle', 'release_spin_rate', 'release_extension',\n",
       "       'game_pk', 'release_pos_y', 'at_bat_number', 'batter_name',\n",
       "       'pitcher_name', 'events_B', 'events_S', 'events_double',\n",
       "       'events_field_out', 'events_hit_by_pitch', 'events_home_run',\n",
       "       'events_single', 'events_strikeout', 'events_triple', 'events_walk',\n",
       "       'pitch_type_CH', 'pitch_type_CS', 'pitch_type_CU', 'pitch_type_EP',\n",
       "       'pitch_type_FA', 'pitch_type_FC', 'pitch_type_FF', 'pitch_type_FO',\n",
       "       'pitch_type_FS', 'pitch_type_KC', 'pitch_type_KN', 'pitch_type_PO',\n",
       "       'pitch_type_SC', 'pitch_type_SI', 'pitch_type_SL', 'pitch_type_ST',\n",
       "       'pitch_type_SV', 'stand_L', 'stand_R', 'p_throws_L', 'p_throws_R',\n",
       "       'hit_location_0.0', 'hit_location_1.0', 'hit_location_2.0',\n",
       "       'hit_location_3.0', 'hit_location_4.0', 'hit_location_5.0',\n",
       "       'hit_location_6.0', 'hit_location_7.0', 'hit_location_8.0',\n",
       "       'hit_location_9.0', 'balls_0', 'balls_1', 'balls_2', 'balls_3',\n",
       "       'balls_4', 'strikes_0', 'strikes_1', 'strikes_2', 'outs_when_up_0',\n",
       "       'outs_when_up_1', 'outs_when_up_2'],\n",
       "      dtype='object')"
      ]
     },
     "execution_count": 3,
     "metadata": {},
     "output_type": "execute_result"
    }
   ],
   "source": [
    "valid_data.columns"
   ]
  },
  {
   "cell_type": "code",
   "execution_count": 5,
   "metadata": {},
   "outputs": [],
   "source": [
    "\n",
    "valid_dataset = BaseballDataset(valid_data,data_config_path,sequence_length)"
   ]
  },
  {
   "cell_type": "code",
   "execution_count": 6,
   "metadata": {},
   "outputs": [
    {
     "data": {
      "text/plain": [
       "{'events', 'hc_x', 'hc_y', 'hit_location', 'launch_angle', 'launch_speed'}"
      ]
     },
     "execution_count": 6,
     "metadata": {},
     "output_type": "execute_result"
    }
   ],
   "source": [
    "valid_dataset.label_columns"
   ]
  },
  {
   "cell_type": "code",
   "execution_count": 7,
   "metadata": {},
   "outputs": [],
   "source": [
    "seq, cont_target, cat_targets = valid_dataset[2]"
   ]
  },
  {
   "cell_type": "code",
   "execution_count": 18,
   "metadata": {},
   "outputs": [
    {
     "data": {
      "text/plain": [
       "tensor([-3.7555e-17,  7.2403e-01, -1.6664e-01,  3.9323e-01, -8.3054e-01,\n",
       "        -5.8089e-02,  1.1461e+00,  3.0425e-01, -3.3902e-16,  1.9012e-16,\n",
       "        -7.1635e-01, -1.5105e-01, -9.2301e-01,  9.6360e-01, -5.2170e-02,\n",
       "         1.9702e+00,  2.7812e+00, -2.3654e-17, -1.5236e+00, -9.9139e-02,\n",
       "         5.6065e-02,  0.0000e+00,  0.0000e+00,  0.0000e+00,  0.0000e+00,\n",
       "         0.0000e+00,  0.0000e+00,  0.0000e+00,  0.0000e+00,  0.0000e+00,\n",
       "         0.0000e+00,  0.0000e+00,  0.0000e+00,  0.0000e+00,  0.0000e+00,\n",
       "         0.0000e+00,  0.0000e+00,  0.0000e+00,  0.0000e+00,  0.0000e+00,\n",
       "         0.0000e+00,  0.0000e+00,  0.0000e+00,  0.0000e+00,  1.0000e+00,\n",
       "         0.0000e+00,  0.0000e+00,  0.0000e+00,  0.0000e+00,  1.0000e+00,\n",
       "         0.0000e+00,  1.0000e+00,  0.0000e+00,  0.0000e+00,  0.0000e+00,\n",
       "         0.0000e+00,  0.0000e+00,  0.0000e+00,  0.0000e+00,  0.0000e+00,\n",
       "         0.0000e+00,  0.0000e+00,  1.0000e+00,  0.0000e+00,  0.0000e+00,\n",
       "         0.0000e+00,  0.0000e+00,  1.0000e+00,  0.0000e+00,  0.0000e+00,\n",
       "         0.0000e+00,  0.0000e+00,  1.0000e+00,  1.0000e+00,  1.0000e+00])"
      ]
     },
     "execution_count": 18,
     "metadata": {},
     "output_type": "execute_result"
    }
   ],
   "source": [
    "seq[-1]"
   ]
  },
  {
   "cell_type": "code",
   "execution_count": 9,
   "metadata": {},
   "outputs": [
    {
     "data": {
      "text/plain": [
       "tensor([-0.6591, -0.4316, -0.4295, -0.6863])"
      ]
     },
     "execution_count": 9,
     "metadata": {},
     "output_type": "execute_result"
    }
   ],
   "source": [
    "cont_target"
   ]
  },
  {
   "cell_type": "code",
   "execution_count": 11,
   "metadata": {},
   "outputs": [
    {
     "data": {
      "text/plain": [
       "[tensor([1., 0., 0., 0., 0., 0., 0., 0., 0., 0.]),\n",
       " tensor([1., 0., 0., 0., 0., 0., 0., 0., 0., 0.])]"
      ]
     },
     "execution_count": 11,
     "metadata": {},
     "output_type": "execute_result"
    }
   ],
   "source": [
    "cat_targets"
   ]
  },
  {
   "cell_type": "code",
   "execution_count": 12,
   "metadata": {},
   "outputs": [
    {
     "data": {
      "text/plain": [
       "tensor([17,  8,  9,  0])"
      ]
     },
     "execution_count": 12,
     "metadata": {},
     "output_type": "execute_result"
    }
   ],
   "source": [
    "valid_dataset.continuous_label_indices"
   ]
  },
  {
   "cell_type": "code",
   "execution_count": 16,
   "metadata": {},
   "outputs": [
    {
     "data": {
      "text/plain": [
       "[tensor([21, 22, 23, 24, 25, 26, 27, 28, 29, 30]),\n",
       " tensor([52, 53, 54, 55, 56, 57, 58, 59, 60, 61])]"
      ]
     },
     "execution_count": 16,
     "metadata": {},
     "output_type": "execute_result"
    }
   ],
   "source": [
    "valid_dataset.categorical_label_indices"
   ]
  },
  {
   "cell_type": "code",
   "execution_count": 17,
   "metadata": {},
   "outputs": [
    {
     "data": {
      "text/plain": [
       "tensor([73, 74])"
      ]
     },
     "execution_count": 17,
     "metadata": {},
     "output_type": "execute_result"
    }
   ],
   "source": [
    "valid_dataset.mask_indices"
   ]
  },
  {
   "cell_type": "code",
   "execution_count": 13,
   "metadata": {},
   "outputs": [
    {
     "data": {
      "text/plain": [
       "tensor([-3.7555e-17,  0.0000e+00,  0.0000e+00,  0.0000e+00,  0.0000e+00,\n",
       "         0.0000e+00,  0.0000e+00,  0.0000e+00, -3.3902e-16,  1.9012e-16,\n",
       "         0.0000e+00,  0.0000e+00,  0.0000e+00,  0.0000e+00,  0.0000e+00,\n",
       "         0.0000e+00,  0.0000e+00, -2.3654e-17,  0.0000e+00,  0.0000e+00,\n",
       "         0.0000e+00,  0.0000e+00,  0.0000e+00,  0.0000e+00,  0.0000e+00,\n",
       "         0.0000e+00,  0.0000e+00,  0.0000e+00,  0.0000e+00,  0.0000e+00,\n",
       "         0.0000e+00,  0.0000e+00,  0.0000e+00,  0.0000e+00,  0.0000e+00,\n",
       "         0.0000e+00,  0.0000e+00,  0.0000e+00,  0.0000e+00,  0.0000e+00,\n",
       "         0.0000e+00,  0.0000e+00,  0.0000e+00,  0.0000e+00,  0.0000e+00,\n",
       "         0.0000e+00,  0.0000e+00,  0.0000e+00,  0.0000e+00,  0.0000e+00,\n",
       "         0.0000e+00,  0.0000e+00,  0.0000e+00,  0.0000e+00,  0.0000e+00,\n",
       "         0.0000e+00,  0.0000e+00,  0.0000e+00,  0.0000e+00,  0.0000e+00,\n",
       "         0.0000e+00,  0.0000e+00,  0.0000e+00,  0.0000e+00,  0.0000e+00,\n",
       "         0.0000e+00,  0.0000e+00,  0.0000e+00,  0.0000e+00,  0.0000e+00,\n",
       "         0.0000e+00,  0.0000e+00,  0.0000e+00,  1.0000e+00,  1.0000e+00])"
      ]
     },
     "execution_count": 13,
     "metadata": {},
     "output_type": "execute_result"
    }
   ],
   "source": [
    "valid_dataset.mask"
   ]
  },
  {
   "cell_type": "code",
   "execution_count": 19,
   "metadata": {},
   "outputs": [],
   "source": [
    "val_loader = DataLoader(valid_dataset, batch_size=2, shuffle=False, num_workers=0)"
   ]
  },
  {
   "cell_type": "code",
   "execution_count": 20,
   "metadata": {},
   "outputs": [],
   "source": [
    "class PositionalEncoding(nn.Module):\n",
    "    def __init__(self, d_model: int, dropout: float = 0.1, max_len: int = 5000):\n",
    "        super().__init__()\n",
    "        self.dropout = nn.Dropout(p=dropout)\n",
    "\n",
    "        position = torch.arange(max_len).unsqueeze(1)\n",
    "        div_term = torch.exp(torch.arange(0, d_model, 2) * (-math.log(10000.0) / d_model))\n",
    "        pe = torch.zeros(max_len, 1, d_model)\n",
    "        pe[:, 0, 0::2] = torch.sin(position * div_term)\n",
    "        pe[:, 0, 1::2] = torch.cos(position * div_term)\n",
    "        self.register_buffer('pe', pe)\n",
    "\n",
    "    def forward(self, x: torch.Tensor) -> torch.Tensor:\n",
    "        \"\"\"\n",
    "        Arguments:\n",
    "            x: Tensor, shape ``[batch_size, seq_len, embedding_dim]``\n",
    "        \"\"\"\n",
    "        x = x + self.pe[:x.size(1)].transpose(0, 1)\n",
    "        return self.dropout(x)\n",
    "\n",
    "class TransformerModel(nn.Module):\n",
    "    def __init__(self, input_dim, num_heads, num_encoder_layers, hidden_dim, output_dim, sequence_length, dropout=0.1):\n",
    "        super(TransformerModel, self).__init__()\n",
    "        \n",
    "        self.input_dim = input_dim\n",
    "        self.sequence_length = sequence_length\n",
    "        \n",
    "        self.embedding = nn.Linear(input_dim, hidden_dim)\n",
    "        self.positional_encoding = PositionalEncoding(hidden_dim, dropout)\n",
    "        \n",
    "        encoder_layer = nn.TransformerEncoderLayer(d_model=hidden_dim, nhead=num_heads, dim_feedforward=hidden_dim, dropout=dropout, batch_first=True)\n",
    "        self.transformer_encoder = nn.TransformerEncoder(encoder_layer, num_encoder_layers)\n",
    "        \n",
    "        self.fc_layers = nn.Sequential(\n",
    "            nn.Linear(hidden_dim, hidden_dim),\n",
    "            nn.ReLU(),\n",
    "            nn.Linear(hidden_dim, output_dim)\n",
    "        )\n",
    "\n",
    "    def forward(self, x):\n",
    "        x = self.embedding(x)\n",
    "        x = self.positional_encoding(x)\n",
    "        x = self.transformer_encoder(x)\n",
    "        x = x[:, -1, :]  # Use the output of the last pitch in the sequence\n",
    "        x = self.fc_layers(x)\n",
    "        return x\n",
    "\n",
    "\n",
    "def load_model(model_path, model_class, config_path):\n",
    "    with open(config_path, 'r') as file:\n",
    "        config = json.load(file)\n",
    "\n",
    "    state_dict = torch.load(model_path)\n",
    "    state_dict_vals = list(state_dict.values())\n",
    "    \n",
    "\n",
    "    model = TransformerModel(\n",
    "        input_dim=state_dict_vals[0].shape[1],\n",
    "        num_heads=config['num_heads'],\n",
    "        num_encoder_layers=config['num_encoder_layers'],\n",
    "        hidden_dim=config['hidden_dim'],\n",
    "        output_dim=state_dict_vals[-1].shape[0],\n",
    "        sequence_length=config['sequence_length'],\n",
    "        dropout=config.get('dropout', 0.1)  # Optional: provide a default value for dropout if not in config\n",
    "    )\n",
    "    model = nn.DataParallel(model)\n",
    "    model.load_state_dict(state_dict)\n",
    "    model.eval()  # Set the model to evaluation mode\n",
    "    return model"
   ]
  },
  {
   "cell_type": "code",
   "execution_count": 27,
   "metadata": {},
   "outputs": [],
   "source": [
    "model_path = \"small_200_output/transformer_model.pth\"\n",
    "model = load_model(model_path,TransformerModel, \"train_config.json\")"
   ]
  },
  {
   "cell_type": "code",
   "execution_count": 28,
   "metadata": {},
   "outputs": [
    {
     "name": "stdout",
     "output_type": "stream",
     "text": [
      "torch.Size([2, 200, 67]) torch.Size([2, 4])\n"
     ]
    }
   ],
   "source": [
    "for ex in val_loader:\n",
    "    sequence, cont_target, cat_targets = ex\n",
    "    print(sequence.shape,cont_target.shape)\n",
    "    break"
   ]
  },
  {
   "cell_type": "code",
   "execution_count": 31,
   "metadata": {},
   "outputs": [
    {
     "data": {
      "text/plain": [
       "tensor([[  1.2394,   2.4635,   1.6865,   1.7297,  -1.6761,  -3.3174,  -1.7219,\n",
       "          -0.9224,   0.8666,   0.2257,   0.3020,  -0.7569,  -1.5855, -21.6485,\n",
       "          -4.7600,  -0.4523,   1.5333, -11.0467,  -1.3817,   0.1913, -10.9161,\n",
       "          -4.9816, -11.2746, -21.9650],\n",
       "        [ -0.5015,  -0.4433,  -0.5427,  -0.4247,  -8.0998,  -5.5313,  -8.0937,\n",
       "          -7.7401,  -7.5339,  -7.6522,  -6.6194,  -6.7669,  -6.2269, -22.8538,\n",
       "           8.0671,  -7.6580,  -5.2773,  -9.2394,  -8.5116,  -6.4327,  -6.7901,\n",
       "         -11.6350,  -7.1483, -23.0533]], grad_fn=<ToCopyBackward0>)"
      ]
     },
     "execution_count": 31,
     "metadata": {},
     "output_type": "execute_result"
    }
   ],
   "source": [
    "output = model(sequence).cpu()\n",
    "output"
   ]
  },
  {
   "cell_type": "code",
   "execution_count": 32,
   "metadata": {},
   "outputs": [
    {
     "name": "stdout",
     "output_type": "stream",
     "text": [
      "tensor([[ 1.2394,  2.4635,  1.6865,  1.7297],\n",
      "        [-0.5015, -0.4433, -0.5427, -0.4247]], grad_fn=<SliceBackward0>)\n",
      "tensor([[ -1.6761,  -3.3174,  -1.7219,  -0.9224,   0.8666,   0.2257,   0.3020,\n",
      "          -0.7569,  -1.5855, -21.6485],\n",
      "        [ -8.0998,  -5.5313,  -8.0937,  -7.7401,  -7.5339,  -7.6522,  -6.6194,\n",
      "          -6.7669,  -6.2269, -22.8538]], grad_fn=<SliceBackward0>)\n",
      "tensor([[ -4.7600,  -0.4523,   1.5333, -11.0467,  -1.3817,   0.1913, -10.9161,\n",
      "          -4.9816, -11.2746, -21.9650],\n",
      "        [  8.0671,  -7.6580,  -5.2773,  -9.2394,  -8.5116,  -6.4327,  -6.7901,\n",
      "         -11.6350,  -7.1483, -23.0533]], grad_fn=<SliceBackward0>)\n"
     ]
    }
   ],
   "source": [
    "print(output[:, :cont_target.size(1)])\n",
    "mse_loss = F.mse_loss(output[:, :cont_target.size(1)], cont_target)\n",
    "\n",
    "# Categorical target loss (Cross-Entropy) for each categorical feature\n",
    "categorical_losses = []\n",
    "start_idx = cont_target.size(1)\n",
    "for cat_target in cat_targets:\n",
    "    end_idx = start_idx + cat_target.size(1)\n",
    "    print(output[:, start_idx:end_idx])\n",
    "    categorical_losses.append(F.cross_entropy(output[:, start_idx:end_idx], cat_target))\n",
    "    start_idx = end_idx"
   ]
  },
  {
   "cell_type": "code",
   "execution_count": 31,
   "metadata": {},
   "outputs": [
    {
     "data": {
      "text/plain": [
       "array([[ 1.239352  ,  2.4634557 ,  1.6864654 ,  1.7297451 ],\n",
       "       [-0.50145173, -0.44333595, -0.54268885, -0.42470556]],\n",
       "      dtype=float32)"
      ]
     },
     "execution_count": 31,
     "metadata": {},
     "output_type": "execute_result"
    }
   ],
   "source": [
    "cont_output = output[:, :cont_target.size(1)].cpu().squeeze(0).detach().numpy()\n",
    "cont_output"
   ]
  },
  {
   "cell_type": "code",
   "execution_count": 12,
   "metadata": {},
   "outputs": [
    {
     "data": {
      "text/plain": [
       "['hc_y', 'launch_speed', 'hc_x', 'launch_angle']"
      ]
     },
     "execution_count": 12,
     "metadata": {},
     "output_type": "execute_result"
    }
   ],
   "source": [
    "valid_dataset.continuous_label_names"
   ]
  },
  {
   "cell_type": "code",
   "execution_count": 32,
   "metadata": {},
   "outputs": [
    {
     "name": "stderr",
     "output_type": "stream",
     "text": [
      "C:\\Users\\declan\\AppData\\Local\\Temp\\ipykernel_64816\\3623912864.py:1: UserWarning: Implicit dimension choice for softmax has been deprecated. Change the call to include dim=X as an argument.\n",
      "  cat_output = nn.functional.softmax(output[:, cont_target.size(1):]).cpu().squeeze(0).detach().numpy()\n"
     ]
    },
    {
     "data": {
      "text/plain": [
       "array([[1.4168231e-02, 2.7448731e-03, 1.3534164e-02, 3.0105993e-02,\n",
       "        1.8014494e-01, 9.4896130e-02, 1.0242866e-01, 3.5523973e-02,\n",
       "        1.5512227e-02, 3.0019546e-11, 6.4862391e-04, 4.8172981e-02,\n",
       "        3.5088620e-01, 1.2070911e-06, 1.9019229e-02, 9.1690525e-02,\n",
       "        1.3754304e-06, 5.1969773e-04, 9.6108840e-07, 2.1876142e-11],\n",
       "       [9.5242619e-08, 1.2425043e-06, 9.5818777e-08, 1.3646492e-07,\n",
       "        1.6772191e-07, 1.4901202e-07, 4.1854912e-07, 3.6114309e-07,\n",
       "        6.1972986e-07, 3.7257974e-14, 9.9999368e-01, 1.4814243e-07,\n",
       "        1.6017583e-06, 3.0471927e-08, 6.3090845e-08, 5.0445033e-07,\n",
       "        3.5286942e-07, 2.7764366e-09, 2.4663615e-07, 3.0521565e-14]],\n",
       "      dtype=float32)"
      ]
     },
     "execution_count": 32,
     "metadata": {},
     "output_type": "execute_result"
    }
   ],
   "source": [
    "\n",
    "cat_output = nn.functional.softmax(output[:, cont_target.size(1):]).cpu().squeeze(0).detach().numpy()\n",
    "cat_output"
   ]
  },
  {
   "cell_type": "code",
   "execution_count": 15,
   "metadata": {},
   "outputs": [
    {
     "data": {
      "text/plain": [
       "['events_S',\n",
       " 'events_double',\n",
       " 'events_field_out',\n",
       " 'events_hit_by_pitch',\n",
       " 'events_home_run',\n",
       " 'events_single',\n",
       " 'events_strikeout',\n",
       " 'events_triple',\n",
       " 'events_walk',\n",
       " 'events_mask',\n",
       " 'hit_location_1.0',\n",
       " 'hit_location_2.0',\n",
       " 'hit_location_3.0',\n",
       " 'hit_location_4.0',\n",
       " 'hit_location_5.0',\n",
       " 'hit_location_6.0',\n",
       " 'hit_location_7.0',\n",
       " 'hit_location_8.0',\n",
       " 'hit_location_9.0',\n",
       " 'hit_location_mask']"
      ]
     },
     "execution_count": 15,
     "metadata": {},
     "output_type": "execute_result"
    }
   ],
   "source": [
    "valid_dataset.categorical_label_names"
   ]
  },
  {
   "cell_type": "code",
   "execution_count": 33,
   "metadata": {},
   "outputs": [
    {
     "name": "stdout",
     "output_type": "stream",
     "text": [
      "(2, 4) (2, 20)\n"
     ]
    }
   ],
   "source": [
    "print(cont_output.shape, cat_output.shape)"
   ]
  },
  {
   "cell_type": "code",
   "execution_count": 37,
   "metadata": {},
   "outputs": [
    {
     "data": {
      "text/plain": [
       "(2, 24)"
      ]
     },
     "execution_count": 37,
     "metadata": {},
     "output_type": "execute_result"
    }
   ],
   "source": [
    "import numpy as np\n",
    "\n",
    "predictions = np.concatenate((cont_output, cat_output),axis=1)\n",
    "predictions.shape"
   ]
  },
  {
   "cell_type": "code",
   "execution_count": 38,
   "metadata": {},
   "outputs": [
    {
     "data": {
      "text/html": [
       "<div>\n",
       "<style scoped>\n",
       "    .dataframe tbody tr th:only-of-type {\n",
       "        vertical-align: middle;\n",
       "    }\n",
       "\n",
       "    .dataframe tbody tr th {\n",
       "        vertical-align: top;\n",
       "    }\n",
       "\n",
       "    .dataframe thead th {\n",
       "        text-align: right;\n",
       "    }\n",
       "</style>\n",
       "<table border=\"1\" class=\"dataframe\">\n",
       "  <thead>\n",
       "    <tr style=\"text-align: right;\">\n",
       "      <th></th>\n",
       "      <th>hc_y</th>\n",
       "      <th>launch_speed</th>\n",
       "      <th>hc_x</th>\n",
       "      <th>launch_angle</th>\n",
       "      <th>events_S</th>\n",
       "      <th>events_double</th>\n",
       "      <th>events_field_out</th>\n",
       "      <th>events_hit_by_pitch</th>\n",
       "      <th>events_home_run</th>\n",
       "      <th>events_single</th>\n",
       "      <th>...</th>\n",
       "      <th>hit_location_1.0</th>\n",
       "      <th>hit_location_2.0</th>\n",
       "      <th>hit_location_3.0</th>\n",
       "      <th>hit_location_4.0</th>\n",
       "      <th>hit_location_5.0</th>\n",
       "      <th>hit_location_6.0</th>\n",
       "      <th>hit_location_7.0</th>\n",
       "      <th>hit_location_8.0</th>\n",
       "      <th>hit_location_9.0</th>\n",
       "      <th>hit_location_mask</th>\n",
       "    </tr>\n",
       "  </thead>\n",
       "  <tbody>\n",
       "    <tr>\n",
       "      <th>0</th>\n",
       "      <td>1.239352</td>\n",
       "      <td>2.463456</td>\n",
       "      <td>1.686465</td>\n",
       "      <td>1.729745</td>\n",
       "      <td>1.416823e-02</td>\n",
       "      <td>0.002745</td>\n",
       "      <td>1.353416e-02</td>\n",
       "      <td>3.010599e-02</td>\n",
       "      <td>1.801449e-01</td>\n",
       "      <td>9.489613e-02</td>\n",
       "      <td>...</td>\n",
       "      <td>0.000649</td>\n",
       "      <td>4.817298e-02</td>\n",
       "      <td>0.350886</td>\n",
       "      <td>1.207091e-06</td>\n",
       "      <td>1.901923e-02</td>\n",
       "      <td>9.169053e-02</td>\n",
       "      <td>1.375430e-06</td>\n",
       "      <td>5.196977e-04</td>\n",
       "      <td>9.610884e-07</td>\n",
       "      <td>2.187614e-11</td>\n",
       "    </tr>\n",
       "    <tr>\n",
       "      <th>1</th>\n",
       "      <td>-0.501452</td>\n",
       "      <td>-0.443336</td>\n",
       "      <td>-0.542689</td>\n",
       "      <td>-0.424706</td>\n",
       "      <td>9.524262e-08</td>\n",
       "      <td>0.000001</td>\n",
       "      <td>9.581878e-08</td>\n",
       "      <td>1.364649e-07</td>\n",
       "      <td>1.677219e-07</td>\n",
       "      <td>1.490120e-07</td>\n",
       "      <td>...</td>\n",
       "      <td>0.999994</td>\n",
       "      <td>1.481424e-07</td>\n",
       "      <td>0.000002</td>\n",
       "      <td>3.047193e-08</td>\n",
       "      <td>6.309084e-08</td>\n",
       "      <td>5.044503e-07</td>\n",
       "      <td>3.528694e-07</td>\n",
       "      <td>2.776437e-09</td>\n",
       "      <td>2.466361e-07</td>\n",
       "      <td>3.052157e-14</td>\n",
       "    </tr>\n",
       "  </tbody>\n",
       "</table>\n",
       "<p>2 rows × 24 columns</p>\n",
       "</div>"
      ],
      "text/plain": [
       "       hc_y  launch_speed      hc_x  launch_angle      events_S  \\\n",
       "0  1.239352      2.463456  1.686465      1.729745  1.416823e-02   \n",
       "1 -0.501452     -0.443336 -0.542689     -0.424706  9.524262e-08   \n",
       "\n",
       "   events_double  events_field_out  events_hit_by_pitch  events_home_run  \\\n",
       "0       0.002745      1.353416e-02         3.010599e-02     1.801449e-01   \n",
       "1       0.000001      9.581878e-08         1.364649e-07     1.677219e-07   \n",
       "\n",
       "   events_single  ...  hit_location_1.0  hit_location_2.0  hit_location_3.0  \\\n",
       "0   9.489613e-02  ...          0.000649      4.817298e-02          0.350886   \n",
       "1   1.490120e-07  ...          0.999994      1.481424e-07          0.000002   \n",
       "\n",
       "   hit_location_4.0  hit_location_5.0  hit_location_6.0  hit_location_7.0  \\\n",
       "0      1.207091e-06      1.901923e-02      9.169053e-02      1.375430e-06   \n",
       "1      3.047193e-08      6.309084e-08      5.044503e-07      3.528694e-07   \n",
       "\n",
       "   hit_location_8.0  hit_location_9.0  hit_location_mask  \n",
       "0      5.196977e-04      9.610884e-07       2.187614e-11  \n",
       "1      2.776437e-09      2.466361e-07       3.052157e-14  \n",
       "\n",
       "[2 rows x 24 columns]"
      ]
     },
     "execution_count": 38,
     "metadata": {},
     "output_type": "execute_result"
    }
   ],
   "source": [
    "pd.DataFrame(predictions, columns=valid_dataset.continuous_label_names + valid_dataset.categorical_label_names)"
   ]
  }
 ],
 "metadata": {
  "kernelspec": {
   "display_name": "pytorchCUDA",
   "language": "python",
   "name": "python3"
  },
  "language_info": {
   "codemirror_mode": {
    "name": "ipython",
    "version": 3
   },
   "file_extension": ".py",
   "mimetype": "text/x-python",
   "name": "python",
   "nbconvert_exporter": "python",
   "pygments_lexer": "ipython3",
   "version": "3.10.13"
  }
 },
 "nbformat": 4,
 "nbformat_minor": 2
}
