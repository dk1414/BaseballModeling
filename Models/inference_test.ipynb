{
 "cells": [
  {
   "cell_type": "code",
   "execution_count": 1,
   "metadata": {},
   "outputs": [],
   "source": [
    "import sys\n",
    "sys.path.append('../')\n",
    "\n",
    "from Datasets.BaseballDataset import BaseballDataset\n",
    "\n",
    "import torch\n",
    "import torch.nn as nn\n",
    "import torch.optim as optim\n",
    "import math\n",
    "import torch.nn.functional as F\n",
    "from torch.utils.data import DataLoader\n",
    "import json\n",
    "import pandas as pd\n",
    "import os\n",
    "import matplotlib.pyplot as plt\n",
    "import numpy as np\n",
    "import pickle\n",
    "from sklearn.preprocessing import StandardScaler\n"
   ]
  },
  {
   "cell_type": "code",
   "execution_count": 2,
   "metadata": {},
   "outputs": [],
   "source": [
    "data_config_path = \"../data/config.json\"\n",
    "valid_path = \"../data/statcast_2015-2023_cleaned.csv\"\n",
    "sequence_length = 200\n",
    "valid_data = pd.read_csv(valid_path)"
   ]
  },
  {
   "cell_type": "code",
   "execution_count": 3,
   "metadata": {},
   "outputs": [
    {
     "data": {
      "text/plain": [
       "Index(['launch_speed', 'game_date', 'release_speed', 'release_pos_x',\n",
       "       'release_pos_z', 'batter', 'pitcher', 'pfx_x', 'pfx_z', 'plate_x',\n",
       "       'plate_z', 'hc_x', 'hc_y', 'vy0', 'vz0', 'ax', 'ay', 'az', 'sz_top',\n",
       "       'sz_bot', 'launch_angle', 'release_spin_rate', 'release_extension',\n",
       "       'game_pk', 'release_pos_y', 'at_bat_number', 'batter_name',\n",
       "       'pitcher_name', 'events_B', 'events_S', 'events_double',\n",
       "       'events_field_out', 'events_hit_by_pitch', 'events_home_run',\n",
       "       'events_single', 'events_strikeout', 'events_triple', 'events_walk',\n",
       "       'pitch_type_CH', 'pitch_type_CS', 'pitch_type_CU', 'pitch_type_EP',\n",
       "       'pitch_type_FA', 'pitch_type_FC', 'pitch_type_FF', 'pitch_type_FO',\n",
       "       'pitch_type_FS', 'pitch_type_KC', 'pitch_type_KN', 'pitch_type_PO',\n",
       "       'pitch_type_SC', 'pitch_type_SI', 'pitch_type_SL', 'pitch_type_ST',\n",
       "       'pitch_type_SV', 'stand_L', 'stand_R', 'p_throws_L', 'p_throws_R',\n",
       "       'hit_location_0.0', 'hit_location_1.0', 'hit_location_2.0',\n",
       "       'hit_location_3.0', 'hit_location_4.0', 'hit_location_5.0',\n",
       "       'hit_location_6.0', 'hit_location_7.0', 'hit_location_8.0',\n",
       "       'hit_location_9.0', 'balls_0', 'balls_1', 'balls_2', 'balls_3',\n",
       "       'balls_4', 'strikes_0', 'strikes_1', 'strikes_2', 'outs_when_up_0',\n",
       "       'outs_when_up_1', 'outs_when_up_2'],\n",
       "      dtype='object')"
      ]
     },
     "execution_count": 3,
     "metadata": {},
     "output_type": "execute_result"
    }
   ],
   "source": [
    "valid_data.columns"
   ]
  },
  {
   "cell_type": "code",
   "execution_count": 4,
   "metadata": {},
   "outputs": [],
   "source": [
    "\n",
    "valid_dataset = BaseballDataset(valid_data,data_config_path,sequence_length)"
   ]
  },
  {
   "cell_type": "code",
   "execution_count": 5,
   "metadata": {},
   "outputs": [
    {
     "data": {
      "text/plain": [
       "['events', 'launch_speed', 'hit_location', 'hc_x', 'hc_y', 'launch_angle']"
      ]
     },
     "execution_count": 5,
     "metadata": {},
     "output_type": "execute_result"
    }
   ],
   "source": [
    "valid_dataset.label_columns"
   ]
  },
  {
   "cell_type": "code",
   "execution_count": 6,
   "metadata": {},
   "outputs": [],
   "source": [
    "seq, cont_target, cat_targets = valid_dataset[2]"
   ]
  },
  {
   "cell_type": "code",
   "execution_count": 7,
   "metadata": {},
   "outputs": [
    {
     "data": {
      "text/plain": [
       "tensor([-3.7555e-17,  7.2403e-01, -1.6664e-01,  3.9323e-01, -8.3054e-01,\n",
       "        -5.8089e-02,  1.1461e+00,  3.0425e-01, -3.3902e-16,  1.9012e-16,\n",
       "        -7.1635e-01, -1.5105e-01, -9.2301e-01,  9.6360e-01, -5.2170e-02,\n",
       "         1.9702e+00,  2.7812e+00, -2.3654e-17, -1.5236e+00, -9.9139e-02,\n",
       "         5.6065e-02,  0.0000e+00,  0.0000e+00,  0.0000e+00,  0.0000e+00,\n",
       "         0.0000e+00,  0.0000e+00,  0.0000e+00,  0.0000e+00,  0.0000e+00,\n",
       "         0.0000e+00,  0.0000e+00,  0.0000e+00,  0.0000e+00,  0.0000e+00,\n",
       "         0.0000e+00,  0.0000e+00,  0.0000e+00,  0.0000e+00,  0.0000e+00,\n",
       "         0.0000e+00,  0.0000e+00,  0.0000e+00,  0.0000e+00,  1.0000e+00,\n",
       "         0.0000e+00,  0.0000e+00,  0.0000e+00,  0.0000e+00,  1.0000e+00,\n",
       "         0.0000e+00,  1.0000e+00,  0.0000e+00,  0.0000e+00,  0.0000e+00,\n",
       "         0.0000e+00,  0.0000e+00,  0.0000e+00,  0.0000e+00,  0.0000e+00,\n",
       "         0.0000e+00,  0.0000e+00,  1.0000e+00,  0.0000e+00,  0.0000e+00,\n",
       "         0.0000e+00,  0.0000e+00,  1.0000e+00,  0.0000e+00,  0.0000e+00,\n",
       "         0.0000e+00,  0.0000e+00,  1.0000e+00,  1.0000e+00,  1.0000e+00])"
      ]
     },
     "execution_count": 7,
     "metadata": {},
     "output_type": "execute_result"
    }
   ],
   "source": [
    "seq[-1]"
   ]
  },
  {
   "cell_type": "code",
   "execution_count": 8,
   "metadata": {},
   "outputs": [
    {
     "data": {
      "text/plain": [
       "['launch_speed',\n",
       " 'release_speed',\n",
       " 'release_pos_x',\n",
       " 'release_pos_z',\n",
       " 'pfx_x',\n",
       " 'pfx_z',\n",
       " 'plate_x',\n",
       " 'plate_z',\n",
       " 'hc_x',\n",
       " 'hc_y',\n",
       " 'vy0',\n",
       " 'vz0',\n",
       " 'ax',\n",
       " 'ay',\n",
       " 'az',\n",
       " 'sz_top',\n",
       " 'sz_bot',\n",
       " 'launch_angle',\n",
       " 'release_spin_rate',\n",
       " 'release_extension',\n",
       " 'release_pos_y',\n",
       " 'events_B',\n",
       " 'events_S',\n",
       " 'events_double',\n",
       " 'events_field_out',\n",
       " 'events_hit_by_pitch',\n",
       " 'events_home_run',\n",
       " 'events_single',\n",
       " 'events_strikeout',\n",
       " 'events_triple',\n",
       " 'events_walk',\n",
       " 'pitch_type_CH',\n",
       " 'pitch_type_CS',\n",
       " 'pitch_type_CU',\n",
       " 'pitch_type_EP',\n",
       " 'pitch_type_FA',\n",
       " 'pitch_type_FC',\n",
       " 'pitch_type_FF',\n",
       " 'pitch_type_FO',\n",
       " 'pitch_type_FS',\n",
       " 'pitch_type_KC',\n",
       " 'pitch_type_KN',\n",
       " 'pitch_type_PO',\n",
       " 'pitch_type_SC',\n",
       " 'pitch_type_SI',\n",
       " 'pitch_type_SL',\n",
       " 'pitch_type_ST',\n",
       " 'pitch_type_SV',\n",
       " 'stand_L',\n",
       " 'stand_R',\n",
       " 'p_throws_L',\n",
       " 'p_throws_R',\n",
       " 'hit_location_0.0',\n",
       " 'hit_location_1.0',\n",
       " 'hit_location_2.0',\n",
       " 'hit_location_3.0',\n",
       " 'hit_location_4.0',\n",
       " 'hit_location_5.0',\n",
       " 'hit_location_6.0',\n",
       " 'hit_location_7.0',\n",
       " 'hit_location_8.0',\n",
       " 'hit_location_9.0',\n",
       " 'balls_0',\n",
       " 'balls_1',\n",
       " 'balls_2',\n",
       " 'balls_3',\n",
       " 'balls_4',\n",
       " 'strikes_0',\n",
       " 'strikes_1',\n",
       " 'strikes_2',\n",
       " 'outs_when_up_0',\n",
       " 'outs_when_up_1',\n",
       " 'outs_when_up_2',\n",
       " 'events_mask',\n",
       " 'hit_location_mask']"
      ]
     },
     "execution_count": 8,
     "metadata": {},
     "output_type": "execute_result"
    }
   ],
   "source": [
    "valid_dataset.pitch_col_names"
   ]
  },
  {
   "cell_type": "code",
   "execution_count": 9,
   "metadata": {},
   "outputs": [
    {
     "data": {
      "text/plain": [
       "tensor([-0.6863, -0.4316, -0.4295, -0.6591])"
      ]
     },
     "execution_count": 9,
     "metadata": {},
     "output_type": "execute_result"
    }
   ],
   "source": [
    "cont_target"
   ]
  },
  {
   "cell_type": "code",
   "execution_count": 10,
   "metadata": {},
   "outputs": [
    {
     "data": {
      "text/plain": [
       "[tensor([1., 0., 0., 0., 0., 0., 0., 0., 0., 0.]),\n",
       " tensor([1., 0., 0., 0., 0., 0., 0., 0., 0., 0.])]"
      ]
     },
     "execution_count": 10,
     "metadata": {},
     "output_type": "execute_result"
    }
   ],
   "source": [
    "cat_targets"
   ]
  },
  {
   "cell_type": "code",
   "execution_count": 11,
   "metadata": {},
   "outputs": [
    {
     "data": {
      "text/plain": [
       "tensor([ 0,  8,  9, 17])"
      ]
     },
     "execution_count": 11,
     "metadata": {},
     "output_type": "execute_result"
    }
   ],
   "source": [
    "valid_dataset.continuous_label_indices"
   ]
  },
  {
   "cell_type": "code",
   "execution_count": 12,
   "metadata": {},
   "outputs": [
    {
     "data": {
      "text/plain": [
       "['launch_speed', 'hc_x', 'hc_y', 'launch_angle']"
      ]
     },
     "execution_count": 12,
     "metadata": {},
     "output_type": "execute_result"
    }
   ],
   "source": [
    "valid_dataset.continuous_label_names"
   ]
  },
  {
   "cell_type": "code",
   "execution_count": 13,
   "metadata": {},
   "outputs": [
    {
     "data": {
      "text/plain": [
       "[tensor([21, 22, 23, 24, 25, 26, 27, 28, 29, 30]),\n",
       " tensor([52, 53, 54, 55, 56, 57, 58, 59, 60, 61])]"
      ]
     },
     "execution_count": 13,
     "metadata": {},
     "output_type": "execute_result"
    }
   ],
   "source": [
    "valid_dataset.categorical_label_indices"
   ]
  },
  {
   "cell_type": "code",
   "execution_count": 14,
   "metadata": {},
   "outputs": [
    {
     "data": {
      "text/plain": [
       "[['events_B',\n",
       "  'events_S',\n",
       "  'events_double',\n",
       "  'events_field_out',\n",
       "  'events_hit_by_pitch',\n",
       "  'events_home_run',\n",
       "  'events_single',\n",
       "  'events_strikeout',\n",
       "  'events_triple',\n",
       "  'events_walk'],\n",
       " ['hit_location_0.0',\n",
       "  'hit_location_1.0',\n",
       "  'hit_location_2.0',\n",
       "  'hit_location_3.0',\n",
       "  'hit_location_4.0',\n",
       "  'hit_location_5.0',\n",
       "  'hit_location_6.0',\n",
       "  'hit_location_7.0',\n",
       "  'hit_location_8.0',\n",
       "  'hit_location_9.0']]"
      ]
     },
     "execution_count": 14,
     "metadata": {},
     "output_type": "execute_result"
    }
   ],
   "source": [
    "valid_dataset.categorical_label_names"
   ]
  },
  {
   "cell_type": "code",
   "execution_count": 15,
   "metadata": {},
   "outputs": [
    {
     "data": {
      "text/plain": [
       "tensor([73, 74])"
      ]
     },
     "execution_count": 15,
     "metadata": {},
     "output_type": "execute_result"
    }
   ],
   "source": [
    "valid_dataset.mask_indices"
   ]
  },
  {
   "cell_type": "code",
   "execution_count": 16,
   "metadata": {},
   "outputs": [
    {
     "data": {
      "text/plain": [
       "tensor([-3.7555e-17,  0.0000e+00,  0.0000e+00,  0.0000e+00,  0.0000e+00,\n",
       "         0.0000e+00,  0.0000e+00,  0.0000e+00, -3.3902e-16,  1.9012e-16,\n",
       "         0.0000e+00,  0.0000e+00,  0.0000e+00,  0.0000e+00,  0.0000e+00,\n",
       "         0.0000e+00,  0.0000e+00, -2.3654e-17,  0.0000e+00,  0.0000e+00,\n",
       "         0.0000e+00,  0.0000e+00,  0.0000e+00,  0.0000e+00,  0.0000e+00,\n",
       "         0.0000e+00,  0.0000e+00,  0.0000e+00,  0.0000e+00,  0.0000e+00,\n",
       "         0.0000e+00,  0.0000e+00,  0.0000e+00,  0.0000e+00,  0.0000e+00,\n",
       "         0.0000e+00,  0.0000e+00,  0.0000e+00,  0.0000e+00,  0.0000e+00,\n",
       "         0.0000e+00,  0.0000e+00,  0.0000e+00,  0.0000e+00,  0.0000e+00,\n",
       "         0.0000e+00,  0.0000e+00,  0.0000e+00,  0.0000e+00,  0.0000e+00,\n",
       "         0.0000e+00,  0.0000e+00,  0.0000e+00,  0.0000e+00,  0.0000e+00,\n",
       "         0.0000e+00,  0.0000e+00,  0.0000e+00,  0.0000e+00,  0.0000e+00,\n",
       "         0.0000e+00,  0.0000e+00,  0.0000e+00,  0.0000e+00,  0.0000e+00,\n",
       "         0.0000e+00,  0.0000e+00,  0.0000e+00,  0.0000e+00,  0.0000e+00,\n",
       "         0.0000e+00,  0.0000e+00,  0.0000e+00,  1.0000e+00,  1.0000e+00])"
      ]
     },
     "execution_count": 16,
     "metadata": {},
     "output_type": "execute_result"
    }
   ],
   "source": [
    "valid_dataset.mask"
   ]
  },
  {
   "cell_type": "code",
   "execution_count": 124,
   "metadata": {},
   "outputs": [],
   "source": [
    "class PositionalEncoding(nn.Module):\n",
    "    def __init__(self, d_model: int, dropout: float = 0.1, max_len: int = 5000):\n",
    "        super().__init__()\n",
    "        self.dropout = nn.Dropout(p=dropout)\n",
    "\n",
    "        position = torch.arange(max_len).unsqueeze(1)\n",
    "        div_term = torch.exp(torch.arange(0, d_model, 2) * (-math.log(10000.0) / d_model))\n",
    "        pe = torch.zeros(max_len, 1, d_model)\n",
    "        pe[:, 0, 0::2] = torch.sin(position * div_term)\n",
    "        pe[:, 0, 1::2] = torch.cos(position * div_term)\n",
    "        self.register_buffer('pe', pe)\n",
    "\n",
    "    def forward(self, x: torch.Tensor) -> torch.Tensor:\n",
    "        \"\"\"\n",
    "        Arguments:\n",
    "            x: Tensor, shape ``[batch_size, seq_len, embedding_dim]``\n",
    "        \"\"\"\n",
    "        x = x + self.pe[:x.size(1)].transpose(0, 1)\n",
    "        return self.dropout(x)\n",
    "\n",
    "class TransformerModel(nn.Module):\n",
    "    def __init__(self, input_dim, num_heads, num_encoder_layers, hidden_dim, output_dim, sequence_length, dropout=0.1):\n",
    "        super(TransformerModel, self).__init__()\n",
    "        \n",
    "        self.input_dim = input_dim\n",
    "        self.sequence_length = sequence_length\n",
    "        \n",
    "        self.embedding = nn.Linear(input_dim, hidden_dim)\n",
    "        self.positional_encoding = PositionalEncoding(hidden_dim, dropout)\n",
    "        \n",
    "        encoder_layer = nn.TransformerEncoderLayer(d_model=hidden_dim, nhead=num_heads, dim_feedforward=hidden_dim, dropout=dropout, batch_first=True)\n",
    "        self.transformer_encoder = nn.TransformerEncoder(encoder_layer, num_encoder_layers)\n",
    "        \n",
    "        self.fc_layers = nn.Sequential(\n",
    "            nn.Linear(hidden_dim, hidden_dim),\n",
    "            nn.ReLU(),\n",
    "            nn.Linear(hidden_dim, output_dim)\n",
    "        )\n",
    "\n",
    "    def forward(self, x):\n",
    "        x = self.embedding(x)\n",
    "        x = self.positional_encoding(x)\n",
    "        x = self.transformer_encoder(x)\n",
    "        x = x[:, -1, :]  # Use the output of the last pitch in the sequence\n",
    "        x = self.fc_layers(x)\n",
    "        return x\n",
    "\n",
    "\n",
    "def load_model(model_path, config_path):\n",
    "    with open(config_path, 'r') as file:\n",
    "        config = json.load(file)\n",
    "\n",
    "    model = TransformerModel(\n",
    "        input_dim=config['input_dim'],\n",
    "        num_heads=config['num_heads'],\n",
    "        num_encoder_layers=config['num_encoder_layers'],\n",
    "        hidden_dim=config['hidden_dim'],\n",
    "        output_dim=config['output_dim'],\n",
    "        sequence_length=config['sequence_length'],\n",
    "        dropout=config.get('dropout', 0.1)  # Optional: provide a default value for dropout if not in config\n",
    "    )\n",
    "\n",
    "    model.load_state_dict(torch.load(model_path))\n",
    "    model.eval()  # Set the model to evaluation mode\n",
    "    return model\n",
    "\n",
    "\n",
    "\n",
    "def make_preds(model, dataset, scaler_path, device, batch_size):\n",
    "\n",
    "    #get column names in correct order\n",
    "    flat_cat_names = []\n",
    "    for names in dataset.categorical_label_names:\n",
    "        flat_cat_names = flat_cat_names + names \n",
    "    col_names = dataset.continuous_label_names + flat_cat_names\n",
    "\n",
    "    #create dataloader for dataset\n",
    "    loader = DataLoader(dataset, batch_size=batch_size, shuffle=False, num_workers=0)\n",
    "\n",
    "    model.eval()\n",
    "\n",
    "    preds_array = [] #keep trask of preds for each batch\n",
    "    with torch.no_grad():\n",
    "        for sequence_tensor, cont_target_tensor, cat_target_tensor in loader:\n",
    "            sequence_tensor, cont_target_tensor = sequence_tensor.to(device), cont_target_tensor.to(device)\n",
    "            cat_targets = [t.to(device) for t in cat_target_tensor]\n",
    "            output = model(sequence_tensor)\n",
    "\n",
    "            #first k logits correspond to continuous outputs, k = cont_target.size(1)\n",
    "            cont_output = output[:, :cont_target.size(1)].cpu().squeeze(0).detach().numpy()\n",
    "\n",
    "            #can have multiple kinds of categorical outputs. If cat_targets is (batch_size, 2, 10), there are 2 kinds of cateogorical outputs, each with 10 values.\n",
    "            #The first 10 logits after the continuous logits will correspond to first categorical output, second 10 to the second, so this requires multiple softmaxes\n",
    "            cat_probs = []\n",
    "            start_idx = cont_target.size(1)\n",
    "            for cat_target in cat_targets:\n",
    "                end_idx = start_idx + cat_target.size(1)\n",
    "                cat_probs.append(nn.functional.softmax(output[:, start_idx:end_idx],dim=1).cpu().squeeze(0).detach().numpy())\n",
    "                start_idx = end_idx\n",
    "    \n",
    "            #cat continuous and categorical outputs together\n",
    "            preds = cont_output\n",
    "            for probs in cat_probs:\n",
    "                preds = np.concatenate((preds, probs),axis=1)\n",
    "            \n",
    "            preds_array.append(preds)\n",
    "\n",
    "    #make single preds pd     \n",
    "    preds_array = np.vstack(preds_array)\n",
    "    preds_pd = pd.DataFrame(preds_array, columns=col_names)\n",
    "\n",
    "    #scale continuous outputs back to real values\n",
    "    with open(scaler_path, \"rb\") as file:\n",
    "        scalers = pickle.load(file)\n",
    "\n",
    "    for column, scaler in scalers.items():\n",
    "        if column in preds_pd:\n",
    "            preds_pd[column] = (preds_pd[column] * scaler.scale_) + scaler.mean_\n",
    "    \n",
    "\n",
    "    return preds_pd\n",
    "\n",
    "    \n"
   ]
  },
  {
   "cell_type": "code",
   "execution_count": 121,
   "metadata": {},
   "outputs": [
    {
     "name": "stdout",
     "output_type": "stream",
     "text": [
      "cuda\n"
     ]
    },
    {
     "data": {
      "text/plain": [
       "TransformerModel(\n",
       "  (embedding): Linear(in_features=75, out_features=48, bias=True)\n",
       "  (positional_encoding): PositionalEncoding(\n",
       "    (dropout): Dropout(p=0.1, inplace=False)\n",
       "  )\n",
       "  (transformer_encoder): TransformerEncoder(\n",
       "    (layers): ModuleList(\n",
       "      (0-3): 4 x TransformerEncoderLayer(\n",
       "        (self_attn): MultiheadAttention(\n",
       "          (out_proj): NonDynamicallyQuantizableLinear(in_features=48, out_features=48, bias=True)\n",
       "        )\n",
       "        (linear1): Linear(in_features=48, out_features=48, bias=True)\n",
       "        (dropout): Dropout(p=0.1, inplace=False)\n",
       "        (linear2): Linear(in_features=48, out_features=48, bias=True)\n",
       "        (norm1): LayerNorm((48,), eps=1e-05, elementwise_affine=True)\n",
       "        (norm2): LayerNorm((48,), eps=1e-05, elementwise_affine=True)\n",
       "        (dropout1): Dropout(p=0.1, inplace=False)\n",
       "        (dropout2): Dropout(p=0.1, inplace=False)\n",
       "      )\n",
       "    )\n",
       "  )\n",
       "  (fc_layers): Sequential(\n",
       "    (0): Linear(in_features=48, out_features=48, bias=True)\n",
       "    (1): ReLU()\n",
       "    (2): Linear(in_features=48, out_features=24, bias=True)\n",
       "  )\n",
       ")"
      ]
     },
     "execution_count": 121,
     "metadata": {},
     "output_type": "execute_result"
    }
   ],
   "source": [
    "model_path = \"small_200_output_updated/transformer_model.pth\"\n",
    "model_config_path = \"small_200_output_updated/model_config.json\"\n",
    "model = load_model(model_path, model_config_path)\n",
    "val_loader = DataLoader(valid_dataset, batch_size=500, shuffle=False, num_workers=0)\n",
    "device = torch.device(\"cuda\" if torch.cuda.is_available() else \"cpu\")\n",
    "print(device)\n",
    "model.to(device)"
   ]
  },
  {
   "cell_type": "code",
   "execution_count": 125,
   "metadata": {},
   "outputs": [
    {
     "name": "stderr",
     "output_type": "stream",
     "text": [
      "c:\\Users\\declan\\anaconda3\\envs\\pytorchCUDA\\lib\\site-packages\\sklearn\\base.py:347: InconsistentVersionWarning: Trying to unpickle estimator StandardScaler from version 1.5.1 when using version 1.3.0. This might lead to breaking code or invalid results. Use at your own risk. For more info please refer to:\n",
      "https://scikit-learn.org/stable/model_persistence.html#security-maintainability-limitations\n",
      "  warnings.warn(\n"
     ]
    }
   ],
   "source": [
    "predictions = make_preds(model,valid_dataset,\"../data/statcast_2023-2024_cleaned_scalers.pkl\",device, batch_size=500)"
   ]
  },
  {
   "cell_type": "code",
   "execution_count": 126,
   "metadata": {},
   "outputs": [
    {
     "data": {
      "text/html": [
       "<div>\n",
       "<style scoped>\n",
       "    .dataframe tbody tr th:only-of-type {\n",
       "        vertical-align: middle;\n",
       "    }\n",
       "\n",
       "    .dataframe tbody tr th {\n",
       "        vertical-align: top;\n",
       "    }\n",
       "\n",
       "    .dataframe thead th {\n",
       "        text-align: right;\n",
       "    }\n",
       "</style>\n",
       "<table border=\"1\" class=\"dataframe\">\n",
       "  <thead>\n",
       "    <tr style=\"text-align: right;\">\n",
       "      <th></th>\n",
       "      <th>launch_speed</th>\n",
       "      <th>hc_x</th>\n",
       "      <th>hc_y</th>\n",
       "      <th>launch_angle</th>\n",
       "      <th>events_B</th>\n",
       "      <th>events_S</th>\n",
       "      <th>events_double</th>\n",
       "      <th>events_field_out</th>\n",
       "      <th>events_hit_by_pitch</th>\n",
       "      <th>events_home_run</th>\n",
       "      <th>...</th>\n",
       "      <th>hit_location_0.0</th>\n",
       "      <th>hit_location_1.0</th>\n",
       "      <th>hit_location_2.0</th>\n",
       "      <th>hit_location_3.0</th>\n",
       "      <th>hit_location_4.0</th>\n",
       "      <th>hit_location_5.0</th>\n",
       "      <th>hit_location_6.0</th>\n",
       "      <th>hit_location_7.0</th>\n",
       "      <th>hit_location_8.0</th>\n",
       "      <th>hit_location_9.0</th>\n",
       "    </tr>\n",
       "  </thead>\n",
       "  <tbody>\n",
       "    <tr>\n",
       "      <th>0</th>\n",
       "      <td>55.195280</td>\n",
       "      <td>54.788218</td>\n",
       "      <td>54.600249</td>\n",
       "      <td>54.880720</td>\n",
       "      <td>0.019787</td>\n",
       "      <td>5.017832e-02</td>\n",
       "      <td>6.485818e-03</td>\n",
       "      <td>1.799739e-02</td>\n",
       "      <td>5.794608e-02</td>\n",
       "      <td>3.554757e-01</td>\n",
       "      <td>...</td>\n",
       "      <td>5.595204e-04</td>\n",
       "      <td>0.001775</td>\n",
       "      <td>5.137882e-02</td>\n",
       "      <td>0.714609</td>\n",
       "      <td>1.625907e-05</td>\n",
       "      <td>1.754272e-02</td>\n",
       "      <td>2.124547e-01</td>\n",
       "      <td>1.477010e-10</td>\n",
       "      <td>1.659736e-03</td>\n",
       "      <td>3.692037e-06</td>\n",
       "    </tr>\n",
       "    <tr>\n",
       "      <th>1</th>\n",
       "      <td>53.858239</td>\n",
       "      <td>53.793873</td>\n",
       "      <td>53.804926</td>\n",
       "      <td>53.845402</td>\n",
       "      <td>0.999985</td>\n",
       "      <td>8.176662e-07</td>\n",
       "      <td>2.022520e-06</td>\n",
       "      <td>5.579308e-07</td>\n",
       "      <td>4.342257e-07</td>\n",
       "      <td>2.261670e-06</td>\n",
       "      <td>...</td>\n",
       "      <td>1.175859e-06</td>\n",
       "      <td>0.999993</td>\n",
       "      <td>1.704208e-07</td>\n",
       "      <td>0.000004</td>\n",
       "      <td>9.101946e-10</td>\n",
       "      <td>1.910401e-08</td>\n",
       "      <td>9.538027e-07</td>\n",
       "      <td>1.451720e-07</td>\n",
       "      <td>3.980730e-11</td>\n",
       "      <td>1.097615e-09</td>\n",
       "    </tr>\n",
       "    <tr>\n",
       "      <th>2</th>\n",
       "      <td>53.852127</td>\n",
       "      <td>53.756397</td>\n",
       "      <td>53.766201</td>\n",
       "      <td>53.846532</td>\n",
       "      <td>0.999959</td>\n",
       "      <td>1.976771e-06</td>\n",
       "      <td>7.538604e-06</td>\n",
       "      <td>1.179387e-06</td>\n",
       "      <td>3.715934e-06</td>\n",
       "      <td>5.094395e-06</td>\n",
       "      <td>...</td>\n",
       "      <td>9.999474e-01</td>\n",
       "      <td>0.000020</td>\n",
       "      <td>4.652072e-07</td>\n",
       "      <td>0.000021</td>\n",
       "      <td>1.396548e-06</td>\n",
       "      <td>2.532247e-07</td>\n",
       "      <td>5.949435e-06</td>\n",
       "      <td>1.740486e-06</td>\n",
       "      <td>1.522685e-12</td>\n",
       "      <td>1.589241e-06</td>\n",
       "    </tr>\n",
       "    <tr>\n",
       "      <th>3</th>\n",
       "      <td>54.569995</td>\n",
       "      <td>54.449159</td>\n",
       "      <td>54.489308</td>\n",
       "      <td>54.501275</td>\n",
       "      <td>0.043222</td>\n",
       "      <td>1.217628e-02</td>\n",
       "      <td>4.021120e-01</td>\n",
       "      <td>3.995695e-02</td>\n",
       "      <td>4.916657e-02</td>\n",
       "      <td>7.232252e-02</td>\n",
       "      <td>...</td>\n",
       "      <td>1.007699e-04</td>\n",
       "      <td>0.000523</td>\n",
       "      <td>4.164403e-02</td>\n",
       "      <td>0.441495</td>\n",
       "      <td>1.672046e-04</td>\n",
       "      <td>4.098929e-02</td>\n",
       "      <td>1.013434e-01</td>\n",
       "      <td>3.709433e-01</td>\n",
       "      <td>2.781464e-03</td>\n",
       "      <td>1.290617e-05</td>\n",
       "    </tr>\n",
       "    <tr>\n",
       "      <th>4</th>\n",
       "      <td>53.848622</td>\n",
       "      <td>53.759195</td>\n",
       "      <td>53.768970</td>\n",
       "      <td>53.846261</td>\n",
       "      <td>0.999986</td>\n",
       "      <td>6.689947e-07</td>\n",
       "      <td>2.570798e-06</td>\n",
       "      <td>3.680438e-07</td>\n",
       "      <td>1.091018e-06</td>\n",
       "      <td>1.722585e-06</td>\n",
       "      <td>...</td>\n",
       "      <td>9.999592e-01</td>\n",
       "      <td>0.000023</td>\n",
       "      <td>2.482460e-07</td>\n",
       "      <td>0.000012</td>\n",
       "      <td>4.471449e-07</td>\n",
       "      <td>1.203748e-07</td>\n",
       "      <td>3.191357e-06</td>\n",
       "      <td>1.168365e-06</td>\n",
       "      <td>3.562819e-13</td>\n",
       "      <td>6.884530e-07</td>\n",
       "    </tr>\n",
       "    <tr>\n",
       "      <th>...</th>\n",
       "      <td>...</td>\n",
       "      <td>...</td>\n",
       "      <td>...</td>\n",
       "      <td>...</td>\n",
       "      <td>...</td>\n",
       "      <td>...</td>\n",
       "      <td>...</td>\n",
       "      <td>...</td>\n",
       "      <td>...</td>\n",
       "      <td>...</td>\n",
       "      <td>...</td>\n",
       "      <td>...</td>\n",
       "      <td>...</td>\n",
       "      <td>...</td>\n",
       "      <td>...</td>\n",
       "      <td>...</td>\n",
       "      <td>...</td>\n",
       "      <td>...</td>\n",
       "      <td>...</td>\n",
       "      <td>...</td>\n",
       "      <td>...</td>\n",
       "    </tr>\n",
       "    <tr>\n",
       "      <th>974348</th>\n",
       "      <td>53.851655</td>\n",
       "      <td>53.933842</td>\n",
       "      <td>53.947628</td>\n",
       "      <td>53.850139</td>\n",
       "      <td>0.999995</td>\n",
       "      <td>2.298961e-07</td>\n",
       "      <td>1.814704e-07</td>\n",
       "      <td>3.032916e-07</td>\n",
       "      <td>1.968819e-07</td>\n",
       "      <td>5.896700e-07</td>\n",
       "      <td>...</td>\n",
       "      <td>2.547291e-07</td>\n",
       "      <td>0.999996</td>\n",
       "      <td>1.436607e-07</td>\n",
       "      <td>0.000003</td>\n",
       "      <td>1.859711e-10</td>\n",
       "      <td>1.269688e-08</td>\n",
       "      <td>5.246843e-07</td>\n",
       "      <td>1.412034e-08</td>\n",
       "      <td>2.291185e-11</td>\n",
       "      <td>1.630705e-10</td>\n",
       "    </tr>\n",
       "    <tr>\n",
       "      <th>974349</th>\n",
       "      <td>54.872140</td>\n",
       "      <td>54.571771</td>\n",
       "      <td>54.436434</td>\n",
       "      <td>54.846194</td>\n",
       "      <td>0.007341</td>\n",
       "      <td>4.474056e-02</td>\n",
       "      <td>2.037758e-01</td>\n",
       "      <td>1.428795e-01</td>\n",
       "      <td>2.336669e-01</td>\n",
       "      <td>2.583505e-02</td>\n",
       "      <td>...</td>\n",
       "      <td>7.274951e-05</td>\n",
       "      <td>0.000301</td>\n",
       "      <td>2.544834e-02</td>\n",
       "      <td>0.583955</td>\n",
       "      <td>3.339057e-07</td>\n",
       "      <td>5.072358e-03</td>\n",
       "      <td>1.680454e-01</td>\n",
       "      <td>2.131726e-01</td>\n",
       "      <td>3.929613e-03</td>\n",
       "      <td>3.125766e-06</td>\n",
       "    </tr>\n",
       "    <tr>\n",
       "      <th>974350</th>\n",
       "      <td>53.853017</td>\n",
       "      <td>54.507747</td>\n",
       "      <td>54.635478</td>\n",
       "      <td>53.851903</td>\n",
       "      <td>0.999999</td>\n",
       "      <td>1.449466e-08</td>\n",
       "      <td>2.456509e-08</td>\n",
       "      <td>3.933961e-08</td>\n",
       "      <td>2.242465e-08</td>\n",
       "      <td>1.631256e-07</td>\n",
       "      <td>...</td>\n",
       "      <td>4.614255e-07</td>\n",
       "      <td>0.999998</td>\n",
       "      <td>2.245798e-08</td>\n",
       "      <td>0.000001</td>\n",
       "      <td>6.531252e-11</td>\n",
       "      <td>2.145065e-09</td>\n",
       "      <td>1.547066e-07</td>\n",
       "      <td>7.052350e-09</td>\n",
       "      <td>2.906094e-13</td>\n",
       "      <td>5.936721e-11</td>\n",
       "    </tr>\n",
       "    <tr>\n",
       "      <th>974351</th>\n",
       "      <td>53.848924</td>\n",
       "      <td>53.759940</td>\n",
       "      <td>53.770783</td>\n",
       "      <td>53.846814</td>\n",
       "      <td>0.999985</td>\n",
       "      <td>7.384831e-07</td>\n",
       "      <td>2.468105e-06</td>\n",
       "      <td>4.104339e-07</td>\n",
       "      <td>1.244035e-06</td>\n",
       "      <td>1.978380e-06</td>\n",
       "      <td>...</td>\n",
       "      <td>9.999619e-01</td>\n",
       "      <td>0.000020</td>\n",
       "      <td>2.665767e-07</td>\n",
       "      <td>0.000012</td>\n",
       "      <td>5.187881e-07</td>\n",
       "      <td>1.311362e-07</td>\n",
       "      <td>3.343655e-06</td>\n",
       "      <td>7.450520e-07</td>\n",
       "      <td>4.090229e-13</td>\n",
       "      <td>9.378867e-07</td>\n",
       "    </tr>\n",
       "    <tr>\n",
       "      <th>974352</th>\n",
       "      <td>53.848506</td>\n",
       "      <td>54.294794</td>\n",
       "      <td>54.213227</td>\n",
       "      <td>53.860296</td>\n",
       "      <td>0.999997</td>\n",
       "      <td>3.494710e-08</td>\n",
       "      <td>5.980640e-08</td>\n",
       "      <td>1.495707e-07</td>\n",
       "      <td>9.578094e-08</td>\n",
       "      <td>2.977216e-07</td>\n",
       "      <td>...</td>\n",
       "      <td>2.282736e-07</td>\n",
       "      <td>0.999998</td>\n",
       "      <td>4.988319e-08</td>\n",
       "      <td>0.000002</td>\n",
       "      <td>6.565459e-11</td>\n",
       "      <td>3.308730e-09</td>\n",
       "      <td>2.811250e-07</td>\n",
       "      <td>2.965316e-09</td>\n",
       "      <td>8.995913e-13</td>\n",
       "      <td>3.341044e-11</td>\n",
       "    </tr>\n",
       "  </tbody>\n",
       "</table>\n",
       "<p>974353 rows × 24 columns</p>\n",
       "</div>"
      ],
      "text/plain": [
       "        launch_speed       hc_x       hc_y  launch_angle  events_B  \\\n",
       "0          55.195280  54.788218  54.600249     54.880720  0.019787   \n",
       "1          53.858239  53.793873  53.804926     53.845402  0.999985   \n",
       "2          53.852127  53.756397  53.766201     53.846532  0.999959   \n",
       "3          54.569995  54.449159  54.489308     54.501275  0.043222   \n",
       "4          53.848622  53.759195  53.768970     53.846261  0.999986   \n",
       "...              ...        ...        ...           ...       ...   \n",
       "974348     53.851655  53.933842  53.947628     53.850139  0.999995   \n",
       "974349     54.872140  54.571771  54.436434     54.846194  0.007341   \n",
       "974350     53.853017  54.507747  54.635478     53.851903  0.999999   \n",
       "974351     53.848924  53.759940  53.770783     53.846814  0.999985   \n",
       "974352     53.848506  54.294794  54.213227     53.860296  0.999997   \n",
       "\n",
       "            events_S  events_double  events_field_out  events_hit_by_pitch  \\\n",
       "0       5.017832e-02   6.485818e-03      1.799739e-02         5.794608e-02   \n",
       "1       8.176662e-07   2.022520e-06      5.579308e-07         4.342257e-07   \n",
       "2       1.976771e-06   7.538604e-06      1.179387e-06         3.715934e-06   \n",
       "3       1.217628e-02   4.021120e-01      3.995695e-02         4.916657e-02   \n",
       "4       6.689947e-07   2.570798e-06      3.680438e-07         1.091018e-06   \n",
       "...              ...            ...               ...                  ...   \n",
       "974348  2.298961e-07   1.814704e-07      3.032916e-07         1.968819e-07   \n",
       "974349  4.474056e-02   2.037758e-01      1.428795e-01         2.336669e-01   \n",
       "974350  1.449466e-08   2.456509e-08      3.933961e-08         2.242465e-08   \n",
       "974351  7.384831e-07   2.468105e-06      4.104339e-07         1.244035e-06   \n",
       "974352  3.494710e-08   5.980640e-08      1.495707e-07         9.578094e-08   \n",
       "\n",
       "        events_home_run  ...  hit_location_0.0  hit_location_1.0  \\\n",
       "0          3.554757e-01  ...      5.595204e-04          0.001775   \n",
       "1          2.261670e-06  ...      1.175859e-06          0.999993   \n",
       "2          5.094395e-06  ...      9.999474e-01          0.000020   \n",
       "3          7.232252e-02  ...      1.007699e-04          0.000523   \n",
       "4          1.722585e-06  ...      9.999592e-01          0.000023   \n",
       "...                 ...  ...               ...               ...   \n",
       "974348     5.896700e-07  ...      2.547291e-07          0.999996   \n",
       "974349     2.583505e-02  ...      7.274951e-05          0.000301   \n",
       "974350     1.631256e-07  ...      4.614255e-07          0.999998   \n",
       "974351     1.978380e-06  ...      9.999619e-01          0.000020   \n",
       "974352     2.977216e-07  ...      2.282736e-07          0.999998   \n",
       "\n",
       "        hit_location_2.0  hit_location_3.0  hit_location_4.0  \\\n",
       "0           5.137882e-02          0.714609      1.625907e-05   \n",
       "1           1.704208e-07          0.000004      9.101946e-10   \n",
       "2           4.652072e-07          0.000021      1.396548e-06   \n",
       "3           4.164403e-02          0.441495      1.672046e-04   \n",
       "4           2.482460e-07          0.000012      4.471449e-07   \n",
       "...                  ...               ...               ...   \n",
       "974348      1.436607e-07          0.000003      1.859711e-10   \n",
       "974349      2.544834e-02          0.583955      3.339057e-07   \n",
       "974350      2.245798e-08          0.000001      6.531252e-11   \n",
       "974351      2.665767e-07          0.000012      5.187881e-07   \n",
       "974352      4.988319e-08          0.000002      6.565459e-11   \n",
       "\n",
       "        hit_location_5.0  hit_location_6.0  hit_location_7.0  \\\n",
       "0           1.754272e-02      2.124547e-01      1.477010e-10   \n",
       "1           1.910401e-08      9.538027e-07      1.451720e-07   \n",
       "2           2.532247e-07      5.949435e-06      1.740486e-06   \n",
       "3           4.098929e-02      1.013434e-01      3.709433e-01   \n",
       "4           1.203748e-07      3.191357e-06      1.168365e-06   \n",
       "...                  ...               ...               ...   \n",
       "974348      1.269688e-08      5.246843e-07      1.412034e-08   \n",
       "974349      5.072358e-03      1.680454e-01      2.131726e-01   \n",
       "974350      2.145065e-09      1.547066e-07      7.052350e-09   \n",
       "974351      1.311362e-07      3.343655e-06      7.450520e-07   \n",
       "974352      3.308730e-09      2.811250e-07      2.965316e-09   \n",
       "\n",
       "        hit_location_8.0  hit_location_9.0  \n",
       "0           1.659736e-03      3.692037e-06  \n",
       "1           3.980730e-11      1.097615e-09  \n",
       "2           1.522685e-12      1.589241e-06  \n",
       "3           2.781464e-03      1.290617e-05  \n",
       "4           3.562819e-13      6.884530e-07  \n",
       "...                  ...               ...  \n",
       "974348      2.291185e-11      1.630705e-10  \n",
       "974349      3.929613e-03      3.125766e-06  \n",
       "974350      2.906094e-13      5.936721e-11  \n",
       "974351      4.090229e-13      9.378867e-07  \n",
       "974352      8.995913e-13      3.341044e-11  \n",
       "\n",
       "[974353 rows x 24 columns]"
      ]
     },
     "execution_count": 126,
     "metadata": {},
     "output_type": "execute_result"
    }
   ],
   "source": [
    "predictions"
   ]
  },
  {
   "cell_type": "code",
   "execution_count": 61,
   "metadata": {},
   "outputs": [
    {
     "name": "stdout",
     "output_type": "stream",
     "text": [
      "torch.Size([2, 200, 75]) torch.Size([2, 4])\n"
     ]
    }
   ],
   "source": [
    "for ex in val_loader:\n",
    "    sequence, cont_target, cat_targets = ex\n",
    "    print(sequence.shape,cont_target.shape)\n",
    "    break"
   ]
  },
  {
   "cell_type": "code",
   "execution_count": 62,
   "metadata": {},
   "outputs": [
    {
     "data": {
      "text/plain": [
       "tensor([[  2.4514,   1.5771,   1.1734,   1.7758,  -1.6404,  -0.7099,  -2.7559,\n",
       "          -1.7352,  -0.5660,   1.2480,   0.7633,   0.5508,  -0.4030,  -1.2941,\n",
       "          -5.1634,  -4.0089,  -0.6435,   1.9890,  -8.7019,  -1.7181,   0.7760,\n",
       "         -20.3108,  -4.0761, -10.1843],\n",
       "        [ -0.4202,  -0.5585,  -0.5347,  -0.4478,   3.0059, -11.0109, -10.1052,\n",
       "         -11.3931, -11.6437,  -9.9935,  -9.8292,  -9.7752, -10.1078, -10.1953,\n",
       "          -7.8852,   5.7683,  -9.8167,  -6.6162, -15.0491, -12.0051,  -8.0945,\n",
       "          -9.9771, -18.1787, -14.8619]], grad_fn=<AddmmBackward0>)"
      ]
     },
     "execution_count": 62,
     "metadata": {},
     "output_type": "execute_result"
    }
   ],
   "source": [
    "output = model(sequence).cpu()\n",
    "output"
   ]
  },
  {
   "cell_type": "code",
   "execution_count": 63,
   "metadata": {},
   "outputs": [
    {
     "data": {
      "text/plain": [
       "array([[ 2.4513645 ,  1.5771134 ,  1.1734091 ,  1.7757804 ],\n",
       "       [-0.42021593, -0.5584552 , -0.5347163 , -0.44778544]],\n",
       "      dtype=float32)"
      ]
     },
     "execution_count": 63,
     "metadata": {},
     "output_type": "execute_result"
    }
   ],
   "source": [
    "cont_output = output[:, :cont_target.size(1)].cpu().squeeze(0).detach().numpy()\n",
    "cont_output"
   ]
  },
  {
   "cell_type": "code",
   "execution_count": 64,
   "metadata": {},
   "outputs": [
    {
     "data": {
      "text/plain": [
       "tensor([ 0,  8,  9, 17])"
      ]
     },
     "execution_count": 64,
     "metadata": {},
     "output_type": "execute_result"
    }
   ],
   "source": [
    "valid_dataset.continuous_label_indices"
   ]
  },
  {
   "cell_type": "code",
   "execution_count": 65,
   "metadata": {},
   "outputs": [
    {
     "data": {
      "text/plain": [
       "['launch_speed', 'hc_x', 'hc_y', 'launch_angle']"
      ]
     },
     "execution_count": 65,
     "metadata": {},
     "output_type": "execute_result"
    }
   ],
   "source": [
    "valid_dataset.continuous_label_names"
   ]
  },
  {
   "cell_type": "code",
   "execution_count": 74,
   "metadata": {},
   "outputs": [
    {
     "data": {
      "text/plain": [
       "[tensor([[0., 0., 0., 0., 0., 0., 1., 0., 0., 0.],\n",
       "         [0., 1., 0., 0., 0., 0., 0., 0., 0., 0.]]),\n",
       " tensor([[0., 0., 0., 0., 0., 0., 0., 0., 1., 0.],\n",
       "         [1., 0., 0., 0., 0., 0., 0., 0., 0., 0.]])]"
      ]
     },
     "execution_count": 74,
     "metadata": {},
     "output_type": "execute_result"
    }
   ],
   "source": [
    "cat_targets"
   ]
  },
  {
   "cell_type": "code",
   "execution_count": 99,
   "metadata": {},
   "outputs": [
    {
     "data": {
      "text/plain": [
       "[array([[1.9787213e-02, 5.0178301e-02, 6.4858207e-03, 1.7997392e-02,\n",
       "         5.7946078e-02, 3.5547572e-01, 2.1892799e-01, 1.7702083e-01,\n",
       "         6.8204962e-02, 2.7975665e-02],\n",
       "        [9.9998450e-01, 8.1766859e-07, 2.0225259e-06, 5.5793294e-07,\n",
       "         4.3422696e-07, 2.2616766e-06, 2.6654120e-06, 2.8132768e-06,\n",
       "         2.0172190e-06, 1.8483646e-06]], dtype=float32),\n",
       " array([[5.5952009e-04, 1.7751115e-03, 5.1378813e-02, 7.1460938e-01,\n",
       "         1.6259080e-05, 1.7542724e-02, 2.1245477e-01, 1.4770152e-10,\n",
       "         1.6597356e-03, 3.6920435e-06],\n",
       "        [1.1758632e-06, 9.9999344e-01, 1.7042129e-07, 4.1829985e-06,\n",
       "         9.1019808e-10, 1.9104078e-08, 9.5380631e-07, 1.4517224e-07,\n",
       "         3.9807452e-11, 1.0976196e-09]], dtype=float32)]"
      ]
     },
     "execution_count": 99,
     "metadata": {},
     "output_type": "execute_result"
    }
   ],
   "source": [
    "cat_probs = []\n",
    "start_idx = cont_target.size(1)\n",
    "for cat_target in cat_targets:\n",
    "    end_idx = start_idx + cat_target.size(1)\n",
    "    cat_probs.append(nn.functional.softmax(output[:, start_idx:end_idx],dim=1).cpu().squeeze(0).detach().numpy())\n",
    "    start_idx = end_idx\n",
    "\n",
    "#cat_output = nn.functional.softmax(output[:, cont_target.size(1):]).cpu().squeeze(0).detach().numpy()\n",
    "cat_probs"
   ]
  },
  {
   "cell_type": "code",
   "execution_count": 100,
   "metadata": {},
   "outputs": [
    {
     "data": {
      "text/plain": [
       "(2, 20)"
      ]
     },
     "execution_count": 100,
     "metadata": {},
     "output_type": "execute_result"
    }
   ],
   "source": [
    "np.concatenate((cat_probs[0],cat_probs[1]),axis=1).shape"
   ]
  },
  {
   "cell_type": "code",
   "execution_count": 93,
   "metadata": {},
   "outputs": [
    {
     "data": {
      "text/plain": [
       "array([[ 2.4513645 ,  1.5771134 ,  1.1734091 ,  1.7757804 ],\n",
       "       [-0.42021593, -0.5584552 , -0.5347163 , -0.44778544]],\n",
       "      dtype=float32)"
      ]
     },
     "execution_count": 93,
     "metadata": {},
     "output_type": "execute_result"
    }
   ],
   "source": [
    "cont_output"
   ]
  },
  {
   "cell_type": "code",
   "execution_count": 101,
   "metadata": {},
   "outputs": [
    {
     "data": {
      "text/plain": [
       "array([[ 2.4513645e+00,  1.5771134e+00,  1.1734091e+00,  1.7757804e+00,\n",
       "         1.9787213e-02,  5.0178301e-02,  6.4858207e-03,  1.7997392e-02,\n",
       "         5.7946078e-02,  3.5547572e-01,  2.1892799e-01,  1.7702083e-01,\n",
       "         6.8204962e-02,  2.7975665e-02,  5.5952009e-04,  1.7751115e-03,\n",
       "         5.1378813e-02,  7.1460938e-01,  1.6259080e-05,  1.7542724e-02,\n",
       "         2.1245477e-01,  1.4770152e-10,  1.6597356e-03,  3.6920435e-06],\n",
       "       [-4.2021593e-01, -5.5845523e-01, -5.3471631e-01, -4.4778544e-01,\n",
       "         9.9998450e-01,  8.1766859e-07,  2.0225259e-06,  5.5793294e-07,\n",
       "         4.3422696e-07,  2.2616766e-06,  2.6654120e-06,  2.8132768e-06,\n",
       "         2.0172190e-06,  1.8483646e-06,  1.1758632e-06,  9.9999344e-01,\n",
       "         1.7042129e-07,  4.1829985e-06,  9.1019808e-10,  1.9104078e-08,\n",
       "         9.5380631e-07,  1.4517224e-07,  3.9807452e-11,  1.0976196e-09]],\n",
       "      dtype=float32)"
      ]
     },
     "execution_count": 101,
     "metadata": {},
     "output_type": "execute_result"
    }
   ],
   "source": [
    "import numpy as np\n",
    "\n",
    "preds = cont_output\n",
    "for probs in cat_probs:\n",
    "    preds = np.concatenate((preds, probs),axis=1)\n",
    "\n",
    "preds"
   ]
  },
  {
   "cell_type": "code",
   "execution_count": 95,
   "metadata": {},
   "outputs": [
    {
     "data": {
      "text/plain": [
       "['launch_speed', 'hc_x', 'hc_y', 'launch_angle']"
      ]
     },
     "execution_count": 95,
     "metadata": {},
     "output_type": "execute_result"
    }
   ],
   "source": [
    "valid_dataset.continuous_label_names"
   ]
  },
  {
   "cell_type": "code",
   "execution_count": 96,
   "metadata": {},
   "outputs": [
    {
     "data": {
      "text/plain": [
       "['events_B',\n",
       " 'events_S',\n",
       " 'events_double',\n",
       " 'events_field_out',\n",
       " 'events_hit_by_pitch',\n",
       " 'events_home_run',\n",
       " 'events_single',\n",
       " 'events_strikeout',\n",
       " 'events_triple',\n",
       " 'events_walk',\n",
       " 'hit_location_0.0',\n",
       " 'hit_location_1.0',\n",
       " 'hit_location_2.0',\n",
       " 'hit_location_3.0',\n",
       " 'hit_location_4.0',\n",
       " 'hit_location_5.0',\n",
       " 'hit_location_6.0',\n",
       " 'hit_location_7.0',\n",
       " 'hit_location_8.0',\n",
       " 'hit_location_9.0']"
      ]
     },
     "execution_count": 96,
     "metadata": {},
     "output_type": "execute_result"
    }
   ],
   "source": [
    "flat_cat_names = []\n",
    "\n",
    "for names in valid_dataset.categorical_label_names:\n",
    "    flat_cat_names = flat_cat_names + names\n",
    "flat_cat_names"
   ]
  },
  {
   "cell_type": "code",
   "execution_count": 97,
   "metadata": {},
   "outputs": [
    {
     "data": {
      "text/plain": [
       "24"
      ]
     },
     "execution_count": 97,
     "metadata": {},
     "output_type": "execute_result"
    }
   ],
   "source": [
    "col_names = valid_dataset.continuous_label_names + flat_cat_names\n",
    "len(col_names)"
   ]
  },
  {
   "cell_type": "code",
   "execution_count": 106,
   "metadata": {},
   "outputs": [
    {
     "data": {
      "text/html": [
       "<div>\n",
       "<style scoped>\n",
       "    .dataframe tbody tr th:only-of-type {\n",
       "        vertical-align: middle;\n",
       "    }\n",
       "\n",
       "    .dataframe tbody tr th {\n",
       "        vertical-align: top;\n",
       "    }\n",
       "\n",
       "    .dataframe thead th {\n",
       "        text-align: right;\n",
       "    }\n",
       "</style>\n",
       "<table border=\"1\" class=\"dataframe\">\n",
       "  <thead>\n",
       "    <tr style=\"text-align: right;\">\n",
       "      <th></th>\n",
       "      <th>launch_speed</th>\n",
       "      <th>hc_x</th>\n",
       "      <th>hc_y</th>\n",
       "      <th>launch_angle</th>\n",
       "      <th>events_B</th>\n",
       "      <th>events_S</th>\n",
       "      <th>events_double</th>\n",
       "      <th>events_field_out</th>\n",
       "      <th>events_hit_by_pitch</th>\n",
       "      <th>events_home_run</th>\n",
       "      <th>...</th>\n",
       "      <th>hit_location_0.0</th>\n",
       "      <th>hit_location_1.0</th>\n",
       "      <th>hit_location_2.0</th>\n",
       "      <th>hit_location_3.0</th>\n",
       "      <th>hit_location_4.0</th>\n",
       "      <th>hit_location_5.0</th>\n",
       "      <th>hit_location_6.0</th>\n",
       "      <th>hit_location_7.0</th>\n",
       "      <th>hit_location_8.0</th>\n",
       "      <th>hit_location_9.0</th>\n",
       "    </tr>\n",
       "  </thead>\n",
       "  <tbody>\n",
       "    <tr>\n",
       "      <th>0</th>\n",
       "      <td>2.451365</td>\n",
       "      <td>1.577113</td>\n",
       "      <td>1.173409</td>\n",
       "      <td>1.775780</td>\n",
       "      <td>0.019787</td>\n",
       "      <td>5.017830e-02</td>\n",
       "      <td>0.006486</td>\n",
       "      <td>1.799739e-02</td>\n",
       "      <td>5.794608e-02</td>\n",
       "      <td>0.355476</td>\n",
       "      <td>...</td>\n",
       "      <td>0.000560</td>\n",
       "      <td>0.001775</td>\n",
       "      <td>5.137881e-02</td>\n",
       "      <td>0.714609</td>\n",
       "      <td>1.625908e-05</td>\n",
       "      <td>1.754272e-02</td>\n",
       "      <td>2.124548e-01</td>\n",
       "      <td>1.477015e-10</td>\n",
       "      <td>1.659736e-03</td>\n",
       "      <td>3.692043e-06</td>\n",
       "    </tr>\n",
       "    <tr>\n",
       "      <th>1</th>\n",
       "      <td>-0.420216</td>\n",
       "      <td>-0.558455</td>\n",
       "      <td>-0.534716</td>\n",
       "      <td>-0.447785</td>\n",
       "      <td>0.999985</td>\n",
       "      <td>8.176686e-07</td>\n",
       "      <td>0.000002</td>\n",
       "      <td>5.579329e-07</td>\n",
       "      <td>4.342270e-07</td>\n",
       "      <td>0.000002</td>\n",
       "      <td>...</td>\n",
       "      <td>0.000001</td>\n",
       "      <td>0.999993</td>\n",
       "      <td>1.704213e-07</td>\n",
       "      <td>0.000004</td>\n",
       "      <td>9.101981e-10</td>\n",
       "      <td>1.910408e-08</td>\n",
       "      <td>9.538063e-07</td>\n",
       "      <td>1.451722e-07</td>\n",
       "      <td>3.980745e-11</td>\n",
       "      <td>1.097620e-09</td>\n",
       "    </tr>\n",
       "  </tbody>\n",
       "</table>\n",
       "<p>2 rows × 24 columns</p>\n",
       "</div>"
      ],
      "text/plain": [
       "   launch_speed      hc_x      hc_y  launch_angle  events_B      events_S  \\\n",
       "0      2.451365  1.577113  1.173409      1.775780  0.019787  5.017830e-02   \n",
       "1     -0.420216 -0.558455 -0.534716     -0.447785  0.999985  8.176686e-07   \n",
       "\n",
       "   events_double  events_field_out  events_hit_by_pitch  events_home_run  ...  \\\n",
       "0       0.006486      1.799739e-02         5.794608e-02         0.355476  ...   \n",
       "1       0.000002      5.579329e-07         4.342270e-07         0.000002  ...   \n",
       "\n",
       "   hit_location_0.0  hit_location_1.0  hit_location_2.0  hit_location_3.0  \\\n",
       "0          0.000560          0.001775      5.137881e-02          0.714609   \n",
       "1          0.000001          0.999993      1.704213e-07          0.000004   \n",
       "\n",
       "   hit_location_4.0  hit_location_5.0  hit_location_6.0  hit_location_7.0  \\\n",
       "0      1.625908e-05      1.754272e-02      2.124548e-01      1.477015e-10   \n",
       "1      9.101981e-10      1.910408e-08      9.538063e-07      1.451722e-07   \n",
       "\n",
       "   hit_location_8.0  hit_location_9.0  \n",
       "0      1.659736e-03      3.692043e-06  \n",
       "1      3.980745e-11      1.097620e-09  \n",
       "\n",
       "[2 rows x 24 columns]"
      ]
     },
     "execution_count": 106,
     "metadata": {},
     "output_type": "execute_result"
    }
   ],
   "source": [
    "preds_pd = pd.DataFrame(preds, columns=col_names)\n",
    "preds_pd"
   ]
  },
  {
   "cell_type": "code",
   "execution_count": 103,
   "metadata": {},
   "outputs": [
    {
     "name": "stderr",
     "output_type": "stream",
     "text": [
      "c:\\Users\\declan\\anaconda3\\envs\\pytorchCUDA\\lib\\site-packages\\sklearn\\base.py:347: InconsistentVersionWarning: Trying to unpickle estimator StandardScaler from version 1.5.1 when using version 1.3.0. This might lead to breaking code or invalid results. Use at your own risk. For more info please refer to:\n",
      "https://scikit-learn.org/stable/model_persistence.html#security-maintainability-limitations\n",
      "  warnings.warn(\n"
     ]
    }
   ],
   "source": [
    "import pickle as pkl\n",
    "from sklearn.preprocessing import StandardScaler\n",
    "\n",
    "with open(\"../data/statcast_2023-2024_cleaned_scalers.pkl\", \"rb\") as file:\n",
    "\n",
    "    scalers = pkl.load(file)"
   ]
  },
  {
   "cell_type": "code",
   "execution_count": 104,
   "metadata": {},
   "outputs": [
    {
     "data": {
      "text/plain": [
       "{'launch_speed': StandardScaler(),\n",
       " 'release_speed': StandardScaler(),\n",
       " 'release_pos_x': StandardScaler(),\n",
       " 'release_pos_z': StandardScaler(),\n",
       " 'pfx_x': StandardScaler(),\n",
       " 'pfx_z': StandardScaler(),\n",
       " 'plate_x': StandardScaler(),\n",
       " 'plate_z': StandardScaler(),\n",
       " 'hc_x': StandardScaler(),\n",
       " 'hc_y': StandardScaler(),\n",
       " 'vy0': StandardScaler(),\n",
       " 'vz0': StandardScaler(),\n",
       " 'ax': StandardScaler(),\n",
       " 'ay': StandardScaler(),\n",
       " 'az': StandardScaler(),\n",
       " 'sz_top': StandardScaler(),\n",
       " 'sz_bot': StandardScaler(),\n",
       " 'launch_angle': StandardScaler(),\n",
       " 'release_spin_rate': StandardScaler(),\n",
       " 'release_extension': StandardScaler(),\n",
       " 'release_pos_y': StandardScaler()}"
      ]
     },
     "execution_count": 104,
     "metadata": {},
     "output_type": "execute_result"
    }
   ],
   "source": [
    "scalers"
   ]
  },
  {
   "cell_type": "code",
   "execution_count": 107,
   "metadata": {},
   "outputs": [],
   "source": [
    "\n",
    "\n",
    "for column, scaler in scalers.items():\n",
    "    if column in preds_pd:\n",
    "        preds_pd[column] = (preds_pd[column] * scaler.scale_) + scaler.mean_\n"
   ]
  },
  {
   "cell_type": "code",
   "execution_count": 108,
   "metadata": {},
   "outputs": [
    {
     "data": {
      "text/html": [
       "<div>\n",
       "<style scoped>\n",
       "    .dataframe tbody tr th:only-of-type {\n",
       "        vertical-align: middle;\n",
       "    }\n",
       "\n",
       "    .dataframe tbody tr th {\n",
       "        vertical-align: top;\n",
       "    }\n",
       "\n",
       "    .dataframe thead th {\n",
       "        text-align: right;\n",
       "    }\n",
       "</style>\n",
       "<table border=\"1\" class=\"dataframe\">\n",
       "  <thead>\n",
       "    <tr style=\"text-align: right;\">\n",
       "      <th></th>\n",
       "      <th>launch_speed</th>\n",
       "      <th>hc_x</th>\n",
       "      <th>hc_y</th>\n",
       "      <th>launch_angle</th>\n",
       "      <th>events_B</th>\n",
       "      <th>events_S</th>\n",
       "      <th>events_double</th>\n",
       "      <th>events_field_out</th>\n",
       "      <th>events_hit_by_pitch</th>\n",
       "      <th>events_home_run</th>\n",
       "      <th>...</th>\n",
       "      <th>hit_location_0.0</th>\n",
       "      <th>hit_location_1.0</th>\n",
       "      <th>hit_location_2.0</th>\n",
       "      <th>hit_location_3.0</th>\n",
       "      <th>hit_location_4.0</th>\n",
       "      <th>hit_location_5.0</th>\n",
       "      <th>hit_location_6.0</th>\n",
       "      <th>hit_location_7.0</th>\n",
       "      <th>hit_location_8.0</th>\n",
       "      <th>hit_location_9.0</th>\n",
       "    </tr>\n",
       "  </thead>\n",
       "  <tbody>\n",
       "    <tr>\n",
       "      <th>0</th>\n",
       "      <td>55.195280</td>\n",
       "      <td>54.788218</td>\n",
       "      <td>54.600249</td>\n",
       "      <td>54.880720</td>\n",
       "      <td>0.019787</td>\n",
       "      <td>5.017830e-02</td>\n",
       "      <td>0.006486</td>\n",
       "      <td>1.799739e-02</td>\n",
       "      <td>5.794608e-02</td>\n",
       "      <td>0.355476</td>\n",
       "      <td>...</td>\n",
       "      <td>0.000560</td>\n",
       "      <td>0.001775</td>\n",
       "      <td>5.137881e-02</td>\n",
       "      <td>0.714609</td>\n",
       "      <td>1.625908e-05</td>\n",
       "      <td>1.754272e-02</td>\n",
       "      <td>2.124548e-01</td>\n",
       "      <td>1.477015e-10</td>\n",
       "      <td>1.659736e-03</td>\n",
       "      <td>3.692043e-06</td>\n",
       "    </tr>\n",
       "    <tr>\n",
       "      <th>1</th>\n",
       "      <td>53.858239</td>\n",
       "      <td>53.793873</td>\n",
       "      <td>53.804926</td>\n",
       "      <td>53.845402</td>\n",
       "      <td>0.999985</td>\n",
       "      <td>8.176686e-07</td>\n",
       "      <td>0.000002</td>\n",
       "      <td>5.579329e-07</td>\n",
       "      <td>4.342270e-07</td>\n",
       "      <td>0.000002</td>\n",
       "      <td>...</td>\n",
       "      <td>0.000001</td>\n",
       "      <td>0.999993</td>\n",
       "      <td>1.704213e-07</td>\n",
       "      <td>0.000004</td>\n",
       "      <td>9.101981e-10</td>\n",
       "      <td>1.910408e-08</td>\n",
       "      <td>9.538063e-07</td>\n",
       "      <td>1.451722e-07</td>\n",
       "      <td>3.980745e-11</td>\n",
       "      <td>1.097620e-09</td>\n",
       "    </tr>\n",
       "  </tbody>\n",
       "</table>\n",
       "<p>2 rows × 24 columns</p>\n",
       "</div>"
      ],
      "text/plain": [
       "   launch_speed       hc_x       hc_y  launch_angle  events_B      events_S  \\\n",
       "0     55.195280  54.788218  54.600249     54.880720  0.019787  5.017830e-02   \n",
       "1     53.858239  53.793873  53.804926     53.845402  0.999985  8.176686e-07   \n",
       "\n",
       "   events_double  events_field_out  events_hit_by_pitch  events_home_run  ...  \\\n",
       "0       0.006486      1.799739e-02         5.794608e-02         0.355476  ...   \n",
       "1       0.000002      5.579329e-07         4.342270e-07         0.000002  ...   \n",
       "\n",
       "   hit_location_0.0  hit_location_1.0  hit_location_2.0  hit_location_3.0  \\\n",
       "0          0.000560          0.001775      5.137881e-02          0.714609   \n",
       "1          0.000001          0.999993      1.704213e-07          0.000004   \n",
       "\n",
       "   hit_location_4.0  hit_location_5.0  hit_location_6.0  hit_location_7.0  \\\n",
       "0      1.625908e-05      1.754272e-02      2.124548e-01      1.477015e-10   \n",
       "1      9.101981e-10      1.910408e-08      9.538063e-07      1.451722e-07   \n",
       "\n",
       "   hit_location_8.0  hit_location_9.0  \n",
       "0      1.659736e-03      3.692043e-06  \n",
       "1      3.980745e-11      1.097620e-09  \n",
       "\n",
       "[2 rows x 24 columns]"
      ]
     },
     "execution_count": 108,
     "metadata": {},
     "output_type": "execute_result"
    }
   ],
   "source": [
    "preds_pd"
   ]
  }
 ],
 "metadata": {
  "kernelspec": {
   "display_name": "pytorchCUDA",
   "language": "python",
   "name": "python3"
  },
  "language_info": {
   "codemirror_mode": {
    "name": "ipython",
    "version": 3
   },
   "file_extension": ".py",
   "mimetype": "text/x-python",
   "name": "python",
   "nbconvert_exporter": "python",
   "pygments_lexer": "ipython3",
   "version": "3.10.13"
  }
 },
 "nbformat": 4,
 "nbformat_minor": 2
}
